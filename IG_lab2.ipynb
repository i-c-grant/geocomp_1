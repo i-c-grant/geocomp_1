{
 "cells": [
  {
   "attachments": {},
   "cell_type": "markdown",
   "metadata": {},
   "source": [
    "# Geocomputation 1, Lab 2\n",
    "### Ian Grant\n",
    "\n",
    "## Importing the data"
   ]
  },
  {
   "cell_type": "code",
   "execution_count": 127,
   "metadata": {},
   "outputs": [],
   "source": [
    "import requests, json"
   ]
  },
  {
   "cell_type": "code",
   "execution_count": 128,
   "metadata": {},
   "outputs": [
    {
     "name": "stdout",
     "output_type": "stream",
     "text": [
      "Number of Counties in US: 3221\n",
      "First entry is Valdez-Cordova\n"
     ]
    }
   ],
   "source": [
    "# May not run. Check the online source.\n",
    "url = \"https://eric.clst.org/assets/wiki/uploads/Stuff/gz_2010_us_050_00_5m.json\"\n",
    "\n",
    "with requests.get(url) as response:\n",
    "    data = response.json()\n",
    "    # Two different ways of composing text messages. The format function is preferred.\n",
    "    print('Number of Counties in US: ' + str(len(data['features'])))\n",
    "    print('First entry is {}'.format(data['features'][0]['properties']['NAME']))"
   ]
  },
  {
   "attachments": {},
   "cell_type": "markdown",
   "metadata": {},
   "source": [
    "## Analysis of data file\n",
    "\n",
    "### Top-level structure\n",
    "First, I analyzed the structure of the data file in preparation for further analysis.\n",
    "\n",
    "The following analysis shows that the top-level structure is a dictionary with two keys, 'type' and 'features':\n",
    "    - The value for 'type' is the string 'FeatureCollection'; this likely indicates the overall type of the data structure stored in 'data'.\n",
    "    - The value for 'features' is a list containing the county data, discussed further below."
   ]
  },
  {
   "cell_type": "code",
   "execution_count": 129,
   "metadata": {},
   "outputs": [
    {
     "name": "stdout",
     "output_type": "stream",
     "text": [
      "'data' is a data structure of type: <class 'dict'>\n",
      "The keys of the 'data' dictionary are: dict_keys(['type', 'features'])\n",
      "\n",
      "The value for the 'type' key in the 'data' dictionary is of type: <class 'str'>\n",
      "The value corresponding to the 'type' key is: FeatureCollection\n",
      "\n",
      "The value for the 'features' key in 'data' dict is of type: <class 'list'>\n",
      "\n"
     ]
    }
   ],
   "source": [
    "print(f\"'data' is a data structure of type: {type(data)}\")\n",
    "print(f\"The keys of the 'data' dictionary are: {data.keys()}\\n\")\n",
    "\n",
    "print(f\"The value for the 'type' key in the 'data' dictionary is of type: {type(data['type'])}\")\n",
    "print(f\"The value corresponding to the 'type' key is: {data['type']}\\n\")\n",
    "\n",
    "print(f\"The value for the 'features' key in 'data' dict is of type: {type(data['features'])}\\n\")\n",
    "\n"
   ]
  },
  {
   "attachments": {},
   "cell_type": "markdown",
   "metadata": {},
   "source": [
    "### Features list\n",
    "Next, I examined the structure of the 'features' list.\n",
    "\n",
    "First, I look at the beginning of the list to observe its structure.\n",
    "It looks like the first element is a dictionary that corresponds to one county, since we can see 'NAME': 'Valdez-Cordov' and 'STATE: '02''\n",
    "I confirmed this by looking at the types of the first two elements in the list; both are dictionaries. "
   ]
  },
  {
   "cell_type": "code",
   "execution_count": 130,
   "metadata": {},
   "outputs": [
    {
     "name": "stdout",
     "output_type": "stream",
     "text": [
      "[{'type': 'Feature', 'properties': {'GEO_ID': '0500000US02261', 'STATE': '02', 'COUNTY': '261', 'NAME': 'Valdez-Cordova', 'LSAD': 'CA', 'CENSUSAREA': 34239.88}, 'geometry': {'type': 'MultiPolygon', 'coordinates': [[[[-147.483828, 60.618636], [-147.500009, 60.653852], [-147.483828, 60.683358], [-147.487635, 60.728092], [-147.395312, 60.74332], [-147.383891, 60.741417], [-147.362, 60.714767], [-147.3087, 60.665274], [-147.348675, 60.627202], [-147.454323, 60.619588], [-147.483828, 60.618636]]], [[[-147.341061, 60.305499], [-147.340109, 60.275042], [-147.483828, 60.224598], [-147.499057, 60.235067], [-147.505719, 60.253151], [-147.496201, 60.265524], [-147.421962, 60.279801], [-147.341061, 60.305499]]], [[[-147.217704, 60.293504], [-147.19494, 60.304563], [-147.183277, 60.32068], [-147.185243, 60.323083], [-147.195608, 60.326224], [-147.211625, 60.324936], [-147.215312, 60.327109], [-147.218799, 60.334726], [-147.214679, 60.343793], [-147.211582, 60.34626], [-147.147514, 60.37247], [-147.112667, 60.380982], [-147.098703, 60.378697], [-147.091897, 60.374969], [-147.089363, 60.369126], [-147.092717, 60.363396], [-147.10401, 60.356727], [-147.095483, 60.341964], [-147.073932, 60.338982], [-147.013164, 60.343863], [-147.006138, 60.343119], [-147.003839, 60.34031], [-147.004091, 60.334348], [-147.015307, 60.322548], [-147.089866, 60.292106], [-147.103118, 60.28019], [-147.104107, 60.277155], [-147.080463, 60.265355], [-147.064768, 60.270188], [-146.962633, 60.311911], [-146.944024, 60.31602], [-146.916164, 60.314898], [-146.911772, 60.309807], [-146.911377, 60.297593], [-146.948089, 60.269974], [-147.002067, 60.232453], [-147.139641, 60.179058], [-147.202416, 60.151128], [-147.253868, 60.113852], [-147.365424, 60.042867], [-147.388508, 60.011116], [-147.388686, 60.004301], [-147.438369, 59.97468], [-147.493235, 59.955388], [-147.499783, 59.951069], [-147.505311, 59.937494], [-147.499625, 59.926296], [-147.494317, 59.922756], [-147.483056, 59.920873], [-147.476312, 59.921563\n",
      "\n",
      "Types of first and second elements in 'features' (respectively): (<class 'dict'>, <class 'dict'>)\n",
      "\n"
     ]
    }
   ],
   "source": [
    "#Look at just the first 2000 characters of 'features' to evaluate the structure (otherwise it is quite long)\n",
    "features_excerpt = str(data['features'])[:2000] + \"\\n\"\n",
    "print(features_excerpt)\n",
    "\n",
    "print(f\"Types of first and second elements in 'features' (respectively): {type(data['features'][0]), type(data['features'][1])}\\n\")\n"
   ]
  },
  {
   "attachments": {},
   "cell_type": "markdown",
   "metadata": {},
   "source": [
    "### Properties dictionaries\n",
    "\n",
    "Finally, I explored the structure of the dictionaries corresponding to counties.\n",
    "The keys at the county level are 'type', 'properties', and 'geometry'.\n",
    "For this assignment, we probably do not need the coordinates stored in 'geometry'. I confirm this by observing the value for the \"properties\" key; it has everything needed for this assignment."
   ]
  },
  {
   "cell_type": "code",
   "execution_count": 131,
   "metadata": {},
   "outputs": [
    {
     "name": "stdout",
     "output_type": "stream",
     "text": [
      "dict_keys(['type', 'properties', 'geometry'])\n",
      "<class 'dict'>\n",
      "{'GEO_ID': '0500000US02261', 'STATE': '02', 'COUNTY': '261', 'NAME': 'Valdez-Cordova', 'LSAD': 'CA', 'CENSUSAREA': 34239.88}\n"
     ]
    }
   ],
   "source": [
    "first_county = data['features'][0]\n",
    "print(first_county.keys())\n",
    "print(type(first_county['properties']))\n",
    "print(first_county['properties'])"
   ]
  },
  {
   "attachments": {},
   "cell_type": "markdown",
   "metadata": {},
   "source": [
    "## Data processing and function definition\n",
    "\n",
    "### Extracting the 'properties' dictionaries\n",
    "\n",
    "Based on the results of the analysis above, we only need to deal with the 'properties' dictionaries within 'data'. This is a relatively small part of the data file, since most of the data is geometric coordinates. Therefore, the first step is to make a list of just the 'properties' dictionaries."
   ]
  },
  {
   "cell_type": "code",
   "execution_count": 132,
   "metadata": {},
   "outputs": [],
   "source": [
    "counties_props = []\n",
    "\n",
    "for county in data['features']:\n",
    "    counties_props.append(county['properties'])\n",
    "\n",
    "#We no longer need to store the whole input file in 'data', but I have left this commented for convenience\n",
    "#del(data)"
   ]
  },
  {
   "attachments": {},
   "cell_type": "markdown",
   "metadata": {},
   "source": [
    "### Aggregating the counties\n",
    "\n",
    "First, I define a function called aggregateCounties() that will return a dictionary that aggregates the counties according to the values of a specified property.\n",
    "\n",
    "The keys of the dictionary are all the unique values of the specified property.\n",
    "\n",
    "The value for each key is a list containing the properties dictionary of each county that matches the key.\n",
    "\n",
    "For example, if we aggregate by state, the function will return a dict where the keys are the state names and the values are lists of counties that fall within each state (see the analysis by state below)."
   ]
  },
  {
   "cell_type": "code",
   "execution_count": 133,
   "metadata": {},
   "outputs": [],
   "source": [
    "def aggregateCounties(county_props_list, key_prop):\n",
    "    agg_dict = {}\n",
    "\n",
    "    #create a set of all the unique values of key_prop\n",
    "    unique_props = set([county[key_prop] for county in county_props_list])\n",
    "    \n",
    "    #initialize dictionary with unique values as keys and empty lists as values\n",
    "    for unique_prop in unique_props:\n",
    "        agg_dict[unique_prop] = []\n",
    "\n",
    "    #update the values for each key in the dict\n",
    "    for county in county_props_list:\n",
    "        #append the properties dict of the current county to the value of the appropriate agg_dict key\n",
    "        agg_dict[county[key_prop]].append(county)\n",
    "    \n",
    "    return agg_dict"
   ]
  },
  {
   "attachments": {},
   "cell_type": "markdown",
   "metadata": {},
   "source": [
    "### Calculating the most frequent values\n",
    "\n",
    "Next, we'll make a function that uses an aggegated dictionary to return a sorted list of the n keys with the most counties.\n",
    "\n",
    "Taking our state example above, we could use this function with the dictionary aggregated by state to return the five states with the most counties."
   ]
  },
  {
   "cell_type": "code",
   "execution_count": 134,
   "metadata": {},
   "outputs": [],
   "source": [
    "def mostCommonProps(agg_dict, n):\n",
    "\n",
    "    #cap n at the length of the dictionary\n",
    "    if n > len(agg_dict):\n",
    "        n = len(agg_dict)\n",
    "\n",
    "    common_props = []\n",
    "    \n",
    "    #Make a 2D array holding the n most common values and the number of counties for each value\n",
    "    #This array will update as we search the dict \n",
    "    for i in range(n):\n",
    "        common_props.append([None, 0])\n",
    "\n",
    "    for key in agg_dict:\n",
    "        #calculate the number of counties in the current key of the aggregated dictionary\n",
    "        num_counties = len(agg_dict[key])\n",
    "\n",
    "        common_props_counts = [common_prop[1] for common_prop in common_props]\n",
    "\n",
    "        if num_counties > min(common_props_counts):\n",
    "            index = common_props_counts.index(min(common_props_counts))\n",
    "            common_props[index] = [key, num_counties]\n",
    "\n",
    "    common_props = [key[0] for key in sorted(common_props, key=lambda row : row[1], reverse=True)]\n",
    "    return common_props"
   ]
  },
  {
   "attachments": {},
   "cell_type": "markdown",
   "metadata": {},
   "source": [
    "### State codes dictionary\n",
    "\n",
    "Before we continue, let's define a dictionary of all the state codes so that we can display the states by name."
   ]
  },
  {
   "cell_type": "code",
   "execution_count": 135,
   "metadata": {},
   "outputs": [
    {
     "name": "stdout",
     "output_type": "stream",
     "text": [
      "State code '51' corresponds to Virginia.\n"
     ]
    }
   ],
   "source": [
    "state_codes_def = \"\"\"\\\n",
    "01,Alabama\n",
    "02,Alaska\n",
    "04,Arizona\n",
    "05,Arkansas\n",
    "06,California\n",
    "08,Colorado\n",
    "09,Connecticut\n",
    "10,Delaware\n",
    "11,District of Columbia\n",
    "12,Florida\n",
    "13,Georgia\n",
    "15,Hawaii\n",
    "16,Idaho\n",
    "17,Illinois\n",
    "18,Indiana\n",
    "19,Iowa\n",
    "20,Kansas\n",
    "21,Kentucky\n",
    "22,Louisiana\n",
    "23,Maine\n",
    "24,Maryland\n",
    "25,Massachusetts\n",
    "26,Michigan\n",
    "27,Minnesota\n",
    "28,Mississippi\n",
    "29,Missouri\n",
    "30,Montana\n",
    "31,Nebraska\n",
    "32,Nevada\n",
    "33,New Hampshire\n",
    "34,New Jersey\n",
    "35,New Mexico\n",
    "36,New York\n",
    "37,North Carolina\n",
    "38,North Dakota\n",
    "39,Ohio\n",
    "40,Oklahoma\n",
    "41,Oregon\n",
    "42,Pennsylvania\n",
    "44,Rhode Island\n",
    "45,South Carolina\n",
    "46,South Dakota\n",
    "47,Tennessee\n",
    "48,Texas\n",
    "49,Utah\n",
    "50,Vermont\n",
    "51,Virginia\n",
    "53,Washington\n",
    "54,West Virginia\n",
    "55,Wisconsin\n",
    "56,Wyoming\n",
    "72,Puerto Rico\"\"\"\n",
    "\n",
    "#Parse defintion string into 2D list of format [[code1, state1], [code2, state2], etc.]\n",
    "state_codes_def = state_codes_def.split('\\n')\n",
    "for i in range(len(state_codes_def)):\n",
    "    state_codes_def[i] = state_codes_def[i].split(',')\n",
    "\n",
    "#Create state codes dictionary\n",
    "state_codes = {}\n",
    "for pair in state_codes_def:\n",
    "    state_codes[pair[0]] = pair[1]\n",
    "\n",
    "print(f\"State code '51' corresponds to {state_codes['51']}.\")"
   ]
  },
  {
   "attachments": {},
   "cell_type": "markdown",
   "metadata": {},
   "source": [
    "## County names analysis\n",
    "\n",
    "We can use these functions to aggregate counties by county name and then look at the three most frequently occuring counties. \n",
    "\n",
    "We can see that \"Washington\" is first, \"Jefferson\" is second, and \"Franklin\" is third, and we can verify this by checking the number of counties that appear for each key. "
   ]
  },
  {
   "cell_type": "code",
   "execution_count": 136,
   "metadata": {},
   "outputs": [
    {
     "name": "stdout",
     "output_type": "stream",
     "text": [
      "There are 31 Washington Counties.\n",
      "There are 26 Franklin Counties.\n",
      "There are 26 Jefferson Counties.\n"
     ]
    }
   ],
   "source": [
    "county_dict = aggregateCounties(counties_props, 'NAME')\n",
    "common_county_names = mostCommonProps(county_dict, 3)\n",
    "\n",
    "for county_name in common_county_names:\n",
    "    print(f\"There are {len(county_dict[county_name])} {county_name} Counties.\")"
   ]
  },
  {
   "attachments": {},
   "cell_type": "markdown",
   "metadata": {},
   "source": [
    "We can use the resulting list of county names to get more information about those counties."
   ]
  },
  {
   "cell_type": "code",
   "execution_count": 137,
   "metadata": {},
   "outputs": [
    {
     "name": "stdout",
     "output_type": "stream",
     "text": [
      "There are 31 Washington Counties, one each in the following states:\n",
      " ['Colorado', 'Florida', 'Arkansas', 'Illinois', 'Iowa', 'Maine', 'Maryland', 'Missouri', 'Tennessee', 'Oklahoma', 'Oregon', 'Wisconsin', 'Utah', 'Vermont', 'Kansas', 'Indiana', 'Kentucky', 'Minnesota', 'Georgia', 'Alabama', 'Louisiana', 'Idaho', 'New York', 'North Carolina', 'Nebraska', 'Mississippi', 'Pennsylvania', 'Ohio', 'Rhode Island', 'Virginia', 'Texas'] \n",
      "\n",
      "There are 26 Franklin Counties, one each in the following states:\n",
      " ['Georgia', 'Alabama', 'Indiana', 'Idaho', 'Kentucky', 'Iowa', 'Mississippi', 'New York', 'Texas', 'Arkansas', 'Florida', 'Louisiana', 'Maine', 'Massachusetts', 'Illinois', 'Kansas', 'Missouri', 'Tennessee', 'Nebraska', 'North Carolina', 'Pennsylvania', 'Ohio', 'Virginia', 'Virginia', 'Washington', 'Vermont'] \n",
      "\n",
      "There are 26 Jefferson Counties, one each in the following states:\n",
      " ['Illinois', 'Georgia', 'Iowa', 'Oregon', 'Colorado', 'Arkansas', 'Florida', 'Kansas', 'Kentucky', 'Alabama', 'Louisiana', 'Mississippi', 'Idaho', 'Indiana', 'Missouri', 'Tennessee', 'Texas', 'New York', 'Oklahoma', 'Nebraska', 'Montana', 'Pennsylvania', 'Ohio', 'West Virginia', 'Wisconsin', 'Washington'] \n",
      "\n"
     ]
    }
   ],
   "source": [
    "#Iterate through list of most common names\n",
    "for county_name in common_county_names:\n",
    "    #Print states where each county name appears\n",
    "    print(f\"There are {len(county_dict[county_name])} {county_name} Counties, one each in the following states:\\n {[state_codes[county['STATE']] for county in county_dict[county_name]]} \\n\")"
   ]
  },
  {
   "attachments": {},
   "cell_type": "markdown",
   "metadata": {},
   "source": [
    "Interestingly, there are two Franklin Counties for state code 51 (Virginia). I wanted to be sure this was not an error in my analysis, so I checked the corresponding entries in the counties_props list. \n",
    "\n",
    "We can see that there are indeed two distinct county entries that differ in the 'LSAD' property: one is marked as a 'County' and the other is marked as a 'city'. "
   ]
  },
  {
   "cell_type": "code",
   "execution_count": 138,
   "metadata": {},
   "outputs": [
    {
     "name": "stdout",
     "output_type": "stream",
     "text": [
      "{'GEO_ID': '0500000US51067', 'STATE': '51', 'COUNTY': '067', 'NAME': 'Franklin', 'LSAD': 'County', 'CENSUSAREA': 690.426}\n",
      "{'GEO_ID': '0500000US51620', 'STATE': '51', 'COUNTY': '620', 'NAME': 'Franklin', 'LSAD': 'city', 'CENSUSAREA': 8.206}\n"
     ]
    }
   ],
   "source": [
    "ans = []\n",
    "\n",
    "for county in counties_props:\n",
    "    #print(county['NAME'])\n",
    "    if county['NAME'] == 'Franklin' and county['STATE'] == '51':\n",
    "        ans.append(county)\n",
    "\n",
    "for county in ans:\n",
    "    print(county)\n"
   ]
  },
  {
   "attachments": {},
   "cell_type": "markdown",
   "metadata": {},
   "source": [
    "LSAD stands for 'Legal/Statistical Area Description'. It is a US Census designation that describes types of entities.\n",
    "\n",
    "The fact that there are two Franklins in Virginia, one with LSAD \"County\" and the other \"city\", raises a question about the data: why are some entries listed as LSAD type \"County\" but others not? How many LSAD types are included in this dataset?\n",
    "\n",
    "We can use the same methods as above to anwer these questions."
   ]
  },
  {
   "cell_type": "code",
   "execution_count": 139,
   "metadata": {},
   "outputs": [
    {
     "name": "stdout",
     "output_type": "stream",
     "text": [
      "There are 2 counties of type .\n",
      "There are 41 counties of type city.\n",
      "There are 64 counties of type Parish.\n",
      "There are 78 counties of type Muno.\n",
      "There are 2 counties of type Muny.\n",
      "There are 12 counties of type Borough.\n",
      "There are 11 counties of type CA.\n",
      "There are 3007 counties of type County.\n",
      "There are 4 counties of type Cty&Bor.\n"
     ]
    }
   ],
   "source": [
    "LSAD_dict = aggregateCounties(counties_props, 'LSAD')\n",
    "for LSAD in LSAD_dict:\n",
    "    print(f\"There are {len(LSAD_dict[LSAD])} counties of type {LSAD}.\")"
   ]
  },
  {
   "attachments": {},
   "cell_type": "markdown",
   "metadata": {},
   "source": [
    "We can see that there are 3,007 entries of type \"County,\" as we would expect, but more than a hundred entries with other LSAD values. We would have to know more about the dataset to understand why, but it's interesting to note that not all of the putative counties are listed as such."
   ]
  },
  {
   "attachments": {},
   "cell_type": "markdown",
   "metadata": {},
   "source": [
    "## State-by-state analysis\n",
    "\n",
    "Next, we will examine state-level statistics. We can apply the same functions as above but aggregate on state code rather than county name. \n",
    "\n",
    "We can also see the top 5 states with the most counties using the same function as above."
   ]
  },
  {
   "cell_type": "code",
   "execution_count": 140,
   "metadata": {},
   "outputs": [
    {
     "name": "stdout",
     "output_type": "stream",
     "text": [
      "The five states with the most counties are: ['Texas', 'Georgia', 'Virginia', 'Kentucky', 'Missouri'])\n"
     ]
    }
   ],
   "source": [
    "#Create dictionary aggregated by state code\n",
    "state_dict = aggregateCounties(counties_props, 'STATE')\n",
    "\n",
    "print(f\"The five states with the most counties are: {[state_codes[state] for state in mostCommonProps(state_dict, 5)]})\")"
   ]
  },
  {
   "attachments": {},
   "cell_type": "markdown",
   "metadata": {},
   "source": [
    "Next, we can use the state dictionary to calculate state statistics, writing the results to an output file."
   ]
  },
  {
   "cell_type": "code",
   "execution_count": 141,
   "metadata": {},
   "outputs": [
    {
     "name": "stdout",
     "output_type": "stream",
     "text": [
      "The mean area of the 44 counties in Idaho is 1878.25.\n",
      "The smallest is Payette County, with an area of 406.867.\n",
      "The largest is Idaho County, with an area of 8477.352.\n",
      "\n",
      "The mean area of the 64 counties in Louisiana is 675.06.\n",
      "The smallest is Orleans County, with an area of 169.423.\n",
      "The largest is Vernon County, with an area of 1327.91.\n",
      "\n",
      "The mean area of the 66 counties in South Dakota is 1148.65.\n",
      "The smallest is Clay County, with an area of 412.185.\n",
      "The largest is Meade County, with an area of 3470.984.\n",
      "\n",
      "The mean area of the 62 counties in New York is 760.1.\n",
      "The smallest is New York County, with an area of 22.829.\n",
      "The largest is St. Lawrence County, with an area of 2680.377.\n",
      "\n",
      "The mean area of the 56 counties in Montana is 2599.03.\n",
      "The smallest is Silver Bow County, with an area of 718.477.\n",
      "The largest is Beaverhead County, with an area of 5541.624.\n",
      "\n",
      "The mean area of the 39 counties in Washington is 1703.99.\n",
      "The smallest is San Juan County, with an area of 173.915.\n",
      "The largest is Okanogan\n"
     ]
    }
   ],
   "source": [
    "#open the output file for writing (which clears the existing data in the file)\n",
    "output_file = open(\"counties_analysis_by_state.txt\", \"w\")\n",
    "\n",
    "for state_code in state_dict:\n",
    "\n",
    "    #state is the list of all counties in the state corresponding to state_code\n",
    "    state = state_dict[state_code]\n",
    "\n",
    "    #calculate how many counties are in this state\n",
    "    num_counties = len(state)\n",
    "\n",
    "    #get list of just the county areas in this state\n",
    "    area_list = [county['CENSUSAREA'] for county in state]\n",
    "\n",
    "    #calculate the mean of the county areas\n",
    "    mean_area = sum(area_list) / len(area_list)\n",
    "\n",
    "    #identify largest and smallest counties\n",
    "    smallest_county = state[area_list.index(min(area_list))]\n",
    "    biggest_county = state[area_list.index(max(area_list))]\n",
    "    \n",
    "    output_file.write(f\"The mean area of the {num_counties} counties in {state_codes[state_code]} is {round(mean_area, 2)}.\\n\")\n",
    "    output_file.write(f\"The smallest is {smallest_county['NAME']} County, with an area of {smallest_county['CENSUSAREA']}.\\n\")\n",
    "    output_file.write(f\"The largest is {biggest_county['NAME']} County, with an area of {biggest_county['CENSUSAREA']}.\\n\\n\")\n",
    "    \n",
    "\n",
    "#close the output file\n",
    "output_file.close()\n",
    "\n",
    "#open the output file again for reading\n",
    "output_file = open(\"counties_analysis_by_state.txt\", \"r\")\n",
    "\n",
    "#print the first 1000 characters of the output file\n",
    "print(output_file.read(1000))\n",
    "\n",
    "output_file.close()\n",
    "\n"
   ]
  }
 ],
 "metadata": {
  "kernelspec": {
   "display_name": "base",
   "language": "python",
   "name": "python3"
  },
  "language_info": {
   "codemirror_mode": {
    "name": "ipython",
    "version": 3
   },
   "file_extension": ".py",
   "mimetype": "text/x-python",
   "name": "python",
   "nbconvert_exporter": "python",
   "pygments_lexer": "ipython3",
   "version": "3.9.13"
  },
  "orig_nbformat": 4,
  "vscode": {
   "interpreter": {
    "hash": "155974f746c9def5d634c5ca794fe02b4d0533761ca8df544901bc3838d900e0"
   }
  }
 },
 "nbformat": 4,
 "nbformat_minor": 2
}
