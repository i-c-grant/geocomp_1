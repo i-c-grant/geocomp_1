{
 "cells": [
  {
   "cell_type": "code",
   "execution_count": null,
   "id": "f5a0e988",
   "metadata": {},
   "outputs": [],
   "source": [
    "from AggDict import AggDict as agg\n",
    "from AggDict import StateDef as sdef\n",
    "import os\n",
    "import requests\n",
    "import pandas as pd\n",
    "import plotly.express as plex\n",
    "import plotly.graph_objects as go\n",
    "import plotly.io as io"
   ]
  },
  {
   "cell_type": "markdown",
   "id": "55a6356a",
   "metadata": {},
   "source": [
    "First, I gathered the relevant functionality from Lab 3 into a\n",
    "package called AggDict. The modules from the package are imported\n",
    "above. AggDict already includes generic plotting functionality using\n",
    "matPlotLib, illustrated below."
   ]
  },
  {
   "cell_type": "code",
   "execution_count": null,
   "id": "80534548",
   "metadata": {},
   "outputs": [],
   "source": [
    "# Set working directory\n",
    "os.chdir(\"/home/ian/Documents/geocomp_1/lab_5\")"
   ]
  },
  {
   "cell_type": "code",
   "execution_count": null,
   "id": "1ccf2571",
   "metadata": {},
   "outputs": [],
   "source": [
    "# Import the data\n",
    "url = \"https://eric.clst.org/assets/wiki/uploads/Stuff/gz_2010_us_050_00_5m.json\""
   ]
  },
  {
   "cell_type": "code",
   "execution_count": null,
   "id": "60be62a3",
   "metadata": {},
   "outputs": [],
   "source": [
    "with requests.get(url) as response:\n",
    "    data = response.json()"
   ]
  },
  {
   "cell_type": "code",
   "execution_count": null,
   "id": "4b54119e",
   "metadata": {},
   "outputs": [],
   "source": [
    "counties_props: list = []"
   ]
  },
  {
   "cell_type": "code",
   "execution_count": null,
   "id": "f84003ce",
   "metadata": {},
   "outputs": [],
   "source": [
    "for county in data[\"features\"]:\n",
    "    counties_props.append(county[\"properties\"])"
   ]
  },
  {
   "cell_type": "code",
   "execution_count": null,
   "id": "e8ae6820",
   "metadata": {},
   "outputs": [],
   "source": [
    "# Define state codes dictionary\n",
    "state_dict = agg.aggDict(counties_props, \"STATE\")\n",
    "state_codes_dict = sdef.stateCodesDict()"
   ]
  },
  {
   "cell_type": "code",
   "execution_count": null,
   "id": "8ef5a9a0",
   "metadata": {},
   "outputs": [],
   "source": [
    "print(\"Complete.\")"
   ]
  },
  {
   "cell_type": "code",
   "execution_count": null,
   "id": "22d43500",
   "metadata": {},
   "outputs": [],
   "source": [
    "# Plot of five most frequent county names using AggDict functions from\n",
    "# Lab 3\n",
    "county_dict = agg.aggDict(counties_props, \"NAME\")\n",
    "print(agg.frequentValues(county_dict, 5))"
   ]
  },
  {
   "cell_type": "code",
   "execution_count": null,
   "id": "75a043a9",
   "metadata": {},
   "outputs": [],
   "source": [
    "agg.aggDictPlot(county_dict, \"County name\")"
   ]
  },
  {
   "cell_type": "markdown",
   "id": "19a6254b",
   "metadata": {},
   "source": [
    "Next, I added a new generic pie chart function to AggDict that uses\n",
    "Plotly. See AggDict.py for the function definition."
   ]
  },
  {
   "cell_type": "code",
   "execution_count": null,
   "id": "eeabdf96",
   "metadata": {},
   "outputs": [],
   "source": [
    "counties_by_state_pie = agg.aggDictPie(state_dict, lambda code: state_codes_dict[code])"
   ]
  },
  {
   "cell_type": "code",
   "execution_count": null,
   "id": "ba76cee5",
   "metadata": {},
   "outputs": [],
   "source": [
    "# Use graph_objects to modify the graph created by aggDictPie\n",
    "counties_by_state_pie = go.Figure(counties_by_state_pie)\n",
    "counties_by_state_pie.update_layout(\n",
    "    title=go.layout.Title(text=\"Share of total US counties by state\", x=0.5)\n",
    ")\n",
    "counties_by_state_pie.show()"
   ]
  },
  {
   "cell_type": "markdown",
   "id": "3d745296",
   "metadata": {},
   "source": [
    "The pie chart above shows that Texas has by far the most counties of\n",
    "any US state, accounting for almost 8% of the country's counties.\n",
    "Texas is, of course, huge. This raises the question of whether Texas\n",
    "has the most counties just because it is a big state or because it\n",
    "has more counties than one would expect for its area."
   ]
  },
  {
   "cell_type": "markdown",
   "id": "2ba5d043",
   "metadata": {},
   "source": [
    "First, to get a general idea of how the areas of the counties in\n",
    "each state are distributed, we can make a factored boxplot showing\n",
    "the distribution of the counties by area for each state. Since\n",
    "boxplots don't show how many data points they describe, we'll also\n",
    "include the number of counties parenthetically in the x-axis labels\n",
    "for each state."
   ]
  },
  {
   "cell_type": "code",
   "execution_count": null,
   "id": "f6628221",
   "metadata": {},
   "outputs": [],
   "source": [
    "# Initiate the lists that will be used for each column of the dataframe\n",
    "names: list = []\n",
    "areas: list = []\n",
    "states: list = []\n",
    "num_in_state: list = []\n",
    "state_with_num: list = []"
   ]
  },
  {
   "cell_type": "code",
   "execution_count": null,
   "id": "fdc2c9bd",
   "metadata": {},
   "outputs": [],
   "source": [
    "# Fill the lists\n",
    "for county in counties_props:\n",
    "    names.append(county[\"NAME\"])\n",
    "    areas.append(county[\"CENSUSAREA\"])\n",
    "    states.append(state_codes_dict[county[\"STATE\"]])\n",
    "    num_in_state.append(len(state_dict[county[\"STATE\"]]))"
   ]
  },
  {
   "cell_type": "code",
   "execution_count": null,
   "id": "e08cb37f",
   "metadata": {},
   "outputs": [],
   "source": [
    "# Create a dict from which the data frame will be constructed\n",
    "state_with_num = [f\"{name} ({num})\" for name, num in zip(states, num_in_state)]"
   ]
  },
  {
   "cell_type": "code",
   "execution_count": null,
   "id": "6a231d45",
   "metadata": {},
   "outputs": [],
   "source": [
    "county_areas = {\n",
    "    \"Counties\": names,\n",
    "    \"Area\": areas,\n",
    "    \"State (number of counties)\": state_with_num,\n",
    "    \"State\": states,\n",
    "    \"Counties in state\": num_in_state,\n",
    "}"
   ]
  },
  {
   "cell_type": "code",
   "execution_count": null,
   "id": "f997df50",
   "metadata": {},
   "outputs": [],
   "source": [
    "# Construct the dataframe\n",
    "df_counties = pd.DataFrame(county_areas)\n",
    "areas_by_state = plex.box(\n",
    "    df_counties, x=\"State (number of counties)\", y=\"Area\", template=\"simple_white\"\n",
    ")\n",
    "areas_by_state.show()"
   ]
  },
  {
   "cell_type": "markdown",
   "id": "53bd8b46",
   "metadata": {},
   "source": [
    "This plot is a good start, but the two largest counties in Alaska\n",
    "are so big that they compress the rest of the states. To deal with\n",
    "this, we'll treat Alaska as an outlier and plot the other states."
   ]
  },
  {
   "cell_type": "code",
   "execution_count": null,
   "id": "f8979c7b",
   "metadata": {},
   "outputs": [],
   "source": [
    "df_counties_no_AK = df_counties[df_counties.State != \"Alaska\"]\n",
    "areas_by_state_no_AK = plex.box(\n",
    "    df_counties_no_AK, x=\"State (number of counties)\", y=\"Area\", template=\"simple_white\"\n",
    ")"
   ]
  },
  {
   "cell_type": "code",
   "execution_count": null,
   "id": "1f38231a",
   "metadata": {},
   "outputs": [],
   "source": [
    "areas_by_state_no_AK.show()"
   ]
  },
  {
   "cell_type": "markdown",
   "id": "bcd7d9ab",
   "metadata": {},
   "source": [
    "This plot is clearer. For one thing, it shows that Western states\n",
    "like Nevada, Arizona, and New Mexico tend to have relatively few\n",
    "counties and that these counties are usually very large. Other\n",
    "states, like Iowa and Mississippi, have a lot of uniformly sized,\n",
    "small counties."
   ]
  },
  {
   "cell_type": "markdown",
   "id": "185ba7de",
   "metadata": {},
   "source": [
    "However, it's not so clear what this plot tells us about Texas.\n",
    "Texas has a lot of outliers, which suggests that it has a fairly\n",
    "wide range of county sizes. To some extent, the plot suggests that\n",
    "Texas is in its own class, as most other states with a high number\n",
    "of counties have only small counties."
   ]
  },
  {
   "cell_type": "markdown",
   "id": "57942972",
   "metadata": {},
   "source": [
    "However, we can get a clearer picture of these relationships with a\n",
    "scatterplot. Let's make a scatterplot of number of each state's\n",
    "total area vs. its number of counties."
   ]
  },
  {
   "cell_type": "code",
   "execution_count": null,
   "id": "25ff9762",
   "metadata": {},
   "outputs": [],
   "source": [
    "state_scatter_data: dict = {}\n",
    "state_areas: list = []\n",
    "state_names: list = []\n",
    "county_nums: list = []\n",
    "mean_county_size: list = []"
   ]
  },
  {
   "cell_type": "code",
   "execution_count": null,
   "id": "6ba94b2e",
   "metadata": {},
   "outputs": [],
   "source": [
    "for state_code in state_dict:\n",
    "    state_area = 0\n",
    "    for county in state_dict[state_code]:\n",
    "        state_area += county[\"CENSUSAREA\"]\n",
    "    state_areas.append(state_area)\n",
    "    state_names.append(state_codes_dict[state_code])\n",
    "    county_nums.append(len(state_dict[state_code]))"
   ]
  },
  {
   "cell_type": "code",
   "execution_count": null,
   "id": "162c058b",
   "metadata": {},
   "outputs": [],
   "source": [
    "mean_county_size = [round(area / n, 2) for area, n in zip(state_areas, county_nums)]"
   ]
  },
  {
   "cell_type": "code",
   "execution_count": null,
   "id": "8644b4bc",
   "metadata": {},
   "outputs": [],
   "source": [
    "state_scatter_data = {\n",
    "    \"State\": state_names,\n",
    "    \"Area\": state_areas,\n",
    "    \"Counties\": county_nums,\n",
    "    \"Mean county size\": mean_county_size,\n",
    "}"
   ]
  },
  {
   "cell_type": "code",
   "execution_count": null,
   "id": "d7034b87",
   "metadata": {},
   "outputs": [],
   "source": [
    "df = pd.DataFrame(state_scatter_data)"
   ]
  },
  {
   "cell_type": "code",
   "execution_count": null,
   "id": "2c86edba",
   "metadata": {},
   "outputs": [],
   "source": [
    "# We'll use a lowess smoother since the data does not have a clear\n",
    "# linear pattern.\n",
    "state_scatter = plex.scatter(\n",
    "    df,\n",
    "    x=\"Area\",\n",
    "    y=\"Counties\",\n",
    "    hover_name=\"State\",\n",
    "    size=\"Mean county size\",\n",
    "    template=\"simple_white\",\n",
    "    trendline=\"lowess\",\n",
    "    trendline_options=dict(frac=0.8),\n",
    ")"
   ]
  },
  {
   "cell_type": "code",
   "execution_count": null,
   "id": "57a454d2",
   "metadata": {},
   "outputs": [],
   "source": [
    "state_scatter.show()"
   ]
  },
  {
   "cell_type": "markdown",
   "id": "2bb5fbe7",
   "metadata": {},
   "source": [
    "This plot is promising, Alaska is such an outlier again. Noting\n",
    "that Alaska is an extremely large state with very few counties,\n",
    "let's exclude it from the analysis and re-create the graph."
   ]
  },
  {
   "cell_type": "code",
   "execution_count": null,
   "id": "f54feee7",
   "metadata": {},
   "outputs": [],
   "source": [
    "df = df[df.State != \"Alaska\"]"
   ]
  },
  {
   "cell_type": "code",
   "execution_count": null,
   "id": "369cc56f",
   "metadata": {},
   "outputs": [],
   "source": [
    "state_scatter_no_AK = plex.scatter(\n",
    "    df,\n",
    "    x=\"Area\",\n",
    "    y=\"Counties\",\n",
    "    hover_name=\"State\",\n",
    "    size=\"Mean county size\",\n",
    "    template=\"simple_white\",\n",
    "    trendline=\"lowess\",\n",
    "    trendline_options=dict(frac=0.8),\n",
    ")"
   ]
  },
  {
   "cell_type": "code",
   "execution_count": null,
   "id": "25558c4d",
   "metadata": {},
   "outputs": [],
   "source": [
    "# We can use Plotly graph_objects to make the plot easier to read.\n",
    "state_scatter_no_AK = go.Figure(state_scatter_no_AK)"
   ]
  },
  {
   "cell_type": "code",
   "execution_count": null,
   "id": "57cd1a5a",
   "metadata": {},
   "outputs": [],
   "source": [
    "state_scatter_no_AK.update_layout(\n",
    "    title=go.layout.Title(\n",
    "        text=\"Number of counties by state area (excluding Alaska)\",\n",
    "        x=0.5,\n",
    "        font=dict(size=28),\n",
    "    ),\n",
    "    yaxis=go.layout.YAxis(\n",
    "        title=go.layout.yaxis.Title(text=\"Number of counties\", font=dict(size=22))\n",
    "    ),\n",
    "    xaxis=go.layout.XAxis(\n",
    "        title=go.layout.xaxis.Title(\n",
    "            # HTML can be used within the string because plotly passes\n",
    "            # the string as HTML; this produces a caption below the x title\n",
    "            text=\"Area of state (sq mi)<br><br><sup>Dot sizes indicate average county size for each state. State areas calculated as sum of county areas.<sup>\",\n",
    "            font=dict(size=22),\n",
    "        )\n",
    "    ),\n",
    ")"
   ]
  },
  {
   "cell_type": "code",
   "execution_count": null,
   "id": "d501cb4b",
   "metadata": {},
   "outputs": [],
   "source": [
    "state_scatter_no_AK.write_image(\"output/state_scatter_no_AK.png\")\n",
    "state_scatter_no_AK.write_html(\"output/state_scatter_no_AK.html\")\n",
    "state_scatter_no_AK.show()"
   ]
  },
  {
   "cell_type": "markdown",
   "id": "bc9e9e4f",
   "metadata": {},
   "source": [
    "This plot shows more clearly that Texas is in a class\n",
    "of its own when it comes to county size and number. Other than Texas\n",
    "and Alaska, there are basically three groups: states with just a few small\n",
    "counties; states with many small counties; and states with a few\n",
    "very large counties (Alaska is an extreme version of this latter\n",
    "group). Texas is uniqu in that it has a very high number of\n",
    "counties, and these counties are moderately sized--smaller than\n",
    "average for a big state, but larger than average for a state with\n",
    "many counties."
   ]
  },
  {
   "cell_type": "code",
   "execution_count": null,
   "id": "095b3e3e",
   "metadata": {},
   "outputs": [],
   "source": []
  }
 ],
 "metadata": {
  "jupytext": {
   "cell_metadata_filter": "-all",
   "main_language": "python",
   "notebook_metadata_filter": "-all"
  }
 },
 "nbformat": 4,
 "nbformat_minor": 5
}
