{
 "cells": [
  {
   "cell_type": "markdown",
   "id": "8c6ee85e",
   "metadata": {},
   "source": [
    "# Lab 3\n",
    "## Ian Grant"
   ]
  },
  {
   "cell_type": "code",
   "execution_count": 105,
   "id": "9203f9f9",
   "metadata": {},
   "outputs": [],
   "source": [
    "import requests, json, numpy, os\n",
    "import matplotlib.pyplot as plt"
   ]
  },
  {
   "cell_type": "code",
   "execution_count": 106,
   "id": "6fd090e2",
   "metadata": {},
   "outputs": [],
   "source": [
    "#Set working directory\n",
    "os.chdir(\"/home/ian/Documents/geocomp_1/lab_2/output\")"
   ]
  },
  {
   "cell_type": "code",
   "execution_count": 107,
   "id": "a93d5b77",
   "metadata": {},
   "outputs": [],
   "source": [
    "#Import the data\n",
    "url = \"https://eric.clst.org/assets/wiki/uploads/Stuff/gz_2010_us_050_00_5m.json\""
   ]
  },
  {
   "cell_type": "code",
   "execution_count": 108,
   "id": "2d3a67e3",
   "metadata": {},
   "outputs": [
    {
     "name": "stdout",
     "output_type": "stream",
     "text": [
      "Number of Counties in US: 3221\n",
      "First entry is Valdez-Cordova\n"
     ]
    }
   ],
   "source": [
    "with requests.get(url) as response:\n",
    "    data = response.json()\n",
    "    # Two different ways of composing text messages. The format function is preferred.\n",
    "    print('Number of Counties in US: ' + str(len(data['features'])))\n",
    "    print('First entry is {}'.format(data['features'][0]['properties']['NAME']))"
   ]
  },
  {
   "cell_type": "markdown",
   "id": "0f9fbcd9",
   "metadata": {},
   "source": [
    "### Extracting the 'properties' dictionaries\n",
    "\n",
    "Based on the results of the analysis presented in Lab 2, we only need to deal with the 'properties' dictionaries within 'data'. This is a relatively small part of the data file, since most of the data is geometric coordinates. Therefore, the first step is to make a list of just the 'properties' dictionaries."
   ]
  },
  {
   "cell_type": "code",
   "execution_count": 109,
   "id": "fd5246c4",
   "metadata": {},
   "outputs": [],
   "source": [
    "counties_props = []"
   ]
  },
  {
   "cell_type": "code",
   "execution_count": 110,
   "id": "dd95b84d",
   "metadata": {},
   "outputs": [],
   "source": [
    "for county in data['features']:\n",
    "    counties_props.append(county['properties'])"
   ]
  },
  {
   "cell_type": "markdown",
   "id": "e9ee8c32",
   "metadata": {
    "lines_to_next_cell": 2
   },
   "source": [
    "We no longer need to store the whole input file in 'data', but I have left this commented for convenience\n",
    "del(data)"
   ]
  },
  {
   "attachments": {},
   "cell_type": "markdown",
   "id": "8b04a68a",
   "metadata": {},
   "source": [
    "### Aggregating the counties\n",
    "\n",
    "First, I define a function called aggDict() that takes a list of dictionaries that have at least one key in common. It returns a new dictionary where the keys are all the unique values of the selected common key. \n",
    "\n",
    "For example, if we use aggDict() on the list of counties dictionaries using the 'STATE' key, the function will return a dict with one key for each state name. The value of each key will be a list of all the counties in that state (see the analysis by state below)."
   ]
  },
  {
   "cell_type": "code",
   "execution_count": 111,
   "id": "57941f91",
   "metadata": {
    "lines_to_next_cell": 1
   },
   "outputs": [],
   "source": [
    "def aggDict(dict_list, common_key):\n",
    "    # Aggregate a list of dictionaries by one of their common keys.\n",
    "\n",
    "    # Arguments:\n",
    "    # dict_list -- A list of dicts; all dicts must include at least one common key.\n",
    "    # commmon_key -- The key by which to aggregate the list of dictionaries; all dicts in  dict_list must contain common_key.\n",
    "\n",
    "    # Returns:\n",
    "    # dict: {each unique value corresponding to common_key : [matching dicts from list_dict]} -- Aggregated dictionary. Keys are the set of unique values of common_key. Values are lists of all the dicts in list_dict that match each value of common_key.\n",
    "   \n",
    "    agg_dict = {}\n",
    "\n",
    "    #create a set of all the unique values corresponding to common_key\n",
    "    common_key_values = {listed_dict[common_key] for listed_dict in dict_list}\n",
    "    \n",
    "    #initialize dictionary with unique values as keys and empty lists as values\n",
    "    agg_dict = {common_key_value:[] for common_key_value in common_key_values}\n",
    "\n",
    "    #update the values for each key in the dict\n",
    "    for listed_dict in dict_list:\n",
    "        #append the properties dict of the current county to the value of the appropriate agg_dict key\n",
    "        agg_dict[listed_dict[common_key]].append(listed_dict)\n",
    "\n",
    "    return agg_dict"
   ]
  },
  {
   "cell_type": "markdown",
   "id": "aba8dcdf",
   "metadata": {},
   "source": [
    "### Calculating the most frequent values\n",
    "\n",
    "Next, we'll make a function that uses an aggegated dictionary to return a sorted list of the n keys with the most counties.\n",
    "\n",
    "Taking our state example above, we could use this function with the dictionary aggregated by state to return the five states with the most counties."
   ]
  },
  {
   "cell_type": "code",
   "execution_count": 112,
   "id": "a12a6f56",
   "metadata": {
    "lines_to_next_cell": 1
   },
   "outputs": [],
   "source": [
    "def frequentValues(agg_dict, n):\n",
    "    # Returns a sorted list of the n keys in an aggregated dictionary that correspond to the largest values.\n",
    "    \n",
    "    # Arguments:\n",
    "    # agg_dict -- An aggregated dictionary; see aggDict().\n",
    "    # n -- number of keys to return; -1 returns all keys\n",
    "    \n",
    "    # Returns:\n",
    "    # list[n keys of agg_dict corresponding to the longest values]: A list of keys  sorted in descending order by length of value list corresponding to each key. \n",
    "    \n",
    "    #cap n at the length of the dictionary, and set to full length if n=-1\n",
    "    if n > len(agg_dict) or n == -1:\n",
    "        n = len(agg_dict)\n",
    "\n",
    "     #Make a 2D array holding the n most common values and the number of counties for each value\n",
    "     #This array will update as we search the dict \n",
    "    frequent_values = [[None, 0] for i in range(n)]\n",
    "\n",
    "    for key in agg_dict:\n",
    "        #calculate the number of counties in the current key of the aggregated dictionary\n",
    "        value_count = len(agg_dict[key])\n",
    "\n",
    "        frequent_values_counts = [frequent_value[1] for frequent_value in frequent_values]\n",
    "\n",
    "        if value_count > min(frequent_values_counts):\n",
    "            index = frequent_values_counts.index(min(frequent_values_counts))\n",
    "            frequent_values[index] = [key, value_count]\n",
    "\n",
    "    sorted_frequent_values = sorted(frequent_values, key=lambda row : row[1], reverse=True)\n",
    "    sorted_frequent_values_keys = [key[0] for key in sorted_frequent_values]\n",
    "    \n",
    "    return sorted_frequent_values_keys"
   ]
  },
  {
   "attachments": {},
   "cell_type": "markdown",
   "id": "adb29732",
   "metadata": {},
   "source": [
    "Next, let's make a function to visually display the n most frequent keys in an aggregated dictionary."
   ]
  },
  {
   "cell_type": "code",
   "execution_count": 138,
   "id": "1f2ff150",
   "metadata": {
    "lines_to_next_cell": 1
   },
   "outputs": [],
   "source": [
    "# Plot an aggregated dictionary with key values on x-axis and frequencies on y-axis\n",
    "def aggDictPlot(agg_dict, x_title, n=10, save=False, xAlias=lambda x : x):\n",
    "    # Shows (and optionally saves) the frequency of occurences in an aggregated dict.\n",
    "                \n",
    "    # Arguments:\n",
    "        # agg_dict: The aggregated dictionary to plot (see aggDict())\n",
    "        # x_title: The title of the x-axis.\n",
    "        # n: The number of keys of the aggregated dictionary to plot; the top n most frequent keys will be plotted.\n",
    "        # save: If true, plot will be saved to .png file.\n",
    "        # xAlias: Optional function for providing alternate names for the x labels (e.g. state names instead of state codes)\n",
    "                \n",
    "    plt.close() #closes previous figures if any are open; avoids data from multiple function calls being combined into single figure, but maybe there's a better way\n",
    "    \n",
    "    #isSubset is true if n is set to plot only a subset of the key values in agg_dict\n",
    "    isSubset = n < len(agg_dict)\n",
    "    \n",
    "    if isSubset:\n",
    "        keys_to_plot = frequentValues(agg_dict, n)\n",
    "    else: \n",
    "        #returns all keys sorted by frequency\n",
    "        keys_to_plot = frequentValues(agg_dict, -1)\n",
    "        \n",
    "    frequencies = [len(agg_dict[key]) for key in keys_to_plot]\n",
    "\n",
    "    #set title of plot\n",
    "    if isSubset:\n",
    "        title = f\"Top {n} Most Frequent Values of {titleLabelStyle(x_title)}\"\n",
    "    else:\n",
    "        title = f\"Frequency of All Unique Values of {titleLabelStyle(x_title)}\"\n",
    "\n",
    "    keys_to_plot_alias = [xAlias(key) for key in keys_to_plot] \n",
    "    \n",
    "    #make plot\n",
    "    plt.bar(keys_to_plot_alias, frequencies)\n",
    "    plt.title(title)\n",
    "    plt.xlabel(x_title)\n",
    "    plt.xticks(rotation=45, ha='right')\n",
    "    plt.ylabel(\"Frequency\")\n",
    "\n",
    "    #save or show plot\n",
    "    if save:\n",
    "        #replace spaces and slashes for filename\n",
    "        filename = filenameStyle(title)\n",
    "        plt.savefig(f\"{filename}.png\", bbox_inches=\"tight\", pad_inches=.5)\n",
    "    else:\n",
    "        plt.show()"
   ]
  },
  {
   "cell_type": "code",
   "execution_count": 114,
   "id": "c1023b31",
   "metadata": {
    "lines_to_next_cell": 1
   },
   "outputs": [],
   "source": [
    "#Capitalization rules for the plot title                \n",
    "def titleLabelStyle(title_label):\n",
    "    if title_label.isupper():\n",
    "        return title_label\n",
    "    else:\n",
    "        return title_label.title()"
   ]
  },
  {
   "cell_type": "code",
   "execution_count": 115,
   "id": "f9cc36ce",
   "metadata": {},
   "outputs": [],
   "source": [
    "#Formatting rules for filename\n",
    "def filenameStyle(title_label):\n",
    "    return title_label.title().replace(\" \", \"_\").replace(\"/\", \"-\").replace(\"\\\\\",\"-\")"
   ]
  },
  {
   "cell_type": "markdown",
   "id": "4f12cf5a",
   "metadata": {},
   "source": [
    "### State codes dictionary\n",
    "\n",
    "Before we continue, let's define a dictionary of all the state codes so that we can display the states by name."
   ]
  },
  {
   "cell_type": "code",
   "execution_count": 116,
   "id": "a5b40fb2",
   "metadata": {},
   "outputs": [],
   "source": [
    "state_codes_def = \"\"\"01,Alabama\n",
    "02,Alaska\n",
    "04,Arizona\n",
    "05,Arkansas\n",
    "06,California\n",
    "08,Colorado\n",
    "09,Connecticut\n",
    "10,Delaware\n",
    "11,District of Columbia\n",
    "12,Florida\n",
    "13,Georgia\n",
    "15,Hawaii\n",
    "16,Idaho\n",
    "17,Illinois\n",
    "18,Indiana\n",
    "19,Iowa\n",
    "20,Kansas\n",
    "21,Kentucky\n",
    "22,Louisiana\n",
    "23,Maine\n",
    "24,Maryland\n",
    "25,Massachusetts\n",
    "26,Michigan\n",
    "27,Minnesota\n",
    "28,Mississippi\n",
    "29,Missouri\n",
    "30,Montana\n",
    "31,Nebraska\n",
    "32,Nevada\n",
    "33,New Hampshire\n",
    "34,New Jersey\n",
    "35,New Mexico\n",
    "36,New York\n",
    "37,North Carolina\n",
    "38,North Dakota\n",
    "39,Ohio\n",
    "40,Oklahoma\n",
    "41,Oregon\n",
    "42,Pennsylvania\n",
    "44,Rhode Island\n",
    "45,South Carolina\n",
    "46,South Dakota\n",
    "47,Tennessee\n",
    "48,Texas\n",
    "49,Utah\n",
    "50,Vermont\n",
    "51,Virginia\n",
    "53,Washington\n",
    "54,West Virginia\n",
    "55,Wisconsin\n",
    "56,Wyoming\n",
    "72,Puerto Rico\"\"\""
   ]
  },
  {
   "cell_type": "code",
   "execution_count": 117,
   "id": "ebb023a0",
   "metadata": {},
   "outputs": [],
   "source": [
    "#Parse defintion string into 2D list of format [[code1, state1], [code2, state2], etc.]\n",
    "state_codes_def = state_codes_def.split('\\n')\n",
    "for i in range(len(state_codes_def)):\n",
    "    state_codes_def[i] = state_codes_def[i].split(',')"
   ]
  },
  {
   "cell_type": "code",
   "execution_count": 118,
   "id": "ce17fd21",
   "metadata": {
    "lines_to_next_cell": 1
   },
   "outputs": [],
   "source": [
    "#Create state codes dictionary\n",
    "state_codes = {}\n",
    "for pair in state_codes_def:\n",
    "    state_codes[pair[0]] = pair[1]"
   ]
  },
  {
   "attachments": {},
   "cell_type": "markdown",
   "id": "b4a093f4",
   "metadata": {},
   "source": [
    "We can also make a function that will take the state code and return the state.\n",
    "This will come in handy for plots later."
   ]
  },
  {
   "cell_type": "code",
   "execution_count": 119,
   "id": "e152e787",
   "metadata": {
    "lines_to_next_cell": 1
   },
   "outputs": [],
   "source": [
    "def stateName(key):\n",
    "    return state_codes[key]"
   ]
  },
  {
   "cell_type": "markdown",
   "id": "458fd73e",
   "metadata": {},
   "source": [
    "## County names analysis\n",
    "\n",
    "We can use these functions to aggregate counties by county name and then look at the three most frequently occuring counties. \n",
    "\n",
    "We can see that \"Washington\" is first, \"Jefferson\" is second, and \"Franklin\" is third, and we can verify this by checking the number of counties that appear for each key. "
   ]
  },
  {
   "cell_type": "code",
   "execution_count": 120,
   "id": "646084fb",
   "metadata": {},
   "outputs": [],
   "source": [
    "county_dict = aggDict(counties_props, 'NAME')\n",
    "common_county_names = frequentValues(county_dict, 3)"
   ]
  },
  {
   "cell_type": "code",
   "execution_count": 121,
   "id": "2256ef45",
   "metadata": {
    "lines_to_next_cell": 2
   },
   "outputs": [
    {
     "name": "stdout",
     "output_type": "stream",
     "text": [
      "There are 31 Washington Counties.\n",
      "There are 26 Jefferson Counties.\n",
      "There are 26 Franklin Counties.\n"
     ]
    }
   ],
   "source": [
    "for county_name in common_county_names:\n",
    "    print(f\"There are {len(county_dict[county_name])} {county_name} Counties.\")"
   ]
  },
  {
   "cell_type": "markdown",
   "id": "6bc453bc",
   "metadata": {},
   "source": [
    "We can use the resulting list of county names to get more information about those counties."
   ]
  },
  {
   "cell_type": "code",
   "execution_count": 122,
   "id": "f5782cab",
   "metadata": {
    "lines_to_next_cell": 2
   },
   "outputs": [
    {
     "name": "stdout",
     "output_type": "stream",
     "text": [
      "There are 31 Washington Counties, one each in the following states:\n",
      " ['Colorado', 'Florida', 'Arkansas', 'Illinois', 'Iowa', 'Maine', 'Maryland', 'Missouri', 'Tennessee', 'Oklahoma', 'Oregon', 'Wisconsin', 'Utah', 'Vermont', 'Kansas', 'Indiana', 'Kentucky', 'Minnesota', 'Georgia', 'Alabama', 'Louisiana', 'Idaho', 'New York', 'North Carolina', 'Nebraska', 'Mississippi', 'Pennsylvania', 'Ohio', 'Rhode Island', 'Virginia', 'Texas'] \n",
      "\n",
      "There are 26 Jefferson Counties, one each in the following states:\n",
      " ['Illinois', 'Georgia', 'Iowa', 'Oregon', 'Colorado', 'Arkansas', 'Florida', 'Kansas', 'Kentucky', 'Alabama', 'Louisiana', 'Mississippi', 'Idaho', 'Indiana', 'Missouri', 'Tennessee', 'Texas', 'New York', 'Oklahoma', 'Nebraska', 'Montana', 'Pennsylvania', 'Ohio', 'West Virginia', 'Wisconsin', 'Washington'] \n",
      "\n",
      "There are 26 Franklin Counties, one each in the following states:\n",
      " ['Georgia', 'Alabama', 'Indiana', 'Idaho', 'Kentucky', 'Iowa', 'Mississippi', 'New York', 'Texas', 'Arkansas', 'Florida', 'Louisiana', 'Maine', 'Massachusetts', 'Illinois', 'Kansas', 'Missouri', 'Tennessee', 'Nebraska', 'North Carolina', 'Pennsylvania', 'Ohio', 'Virginia', 'Virginia', 'Washington', 'Vermont'] \n",
      "\n"
     ]
    }
   ],
   "source": [
    "#Iterate through list of most common names\n",
    "for county_name in common_county_names:\n",
    "    #Print states where each county name appears\n",
    "    print(f\"There are {len(county_dict[county_name])} {county_name} Counties, one each in the following states:\\n {[state_codes[county['STATE']] for county in county_dict[county_name]]} \\n\")"
   ]
  },
  {
   "cell_type": "markdown",
   "id": "ef8ac0f9",
   "metadata": {},
   "source": [
    "Interestingly, there are two Franklin Counties for state code 51 (Virginia). I wanted to be sure this was not an error in my analysis, so I checked the corresponding entries in the counties_props list. \n",
    "\n",
    "We can see that there are indeed two distinct county entries that differ in the 'LSAD' property: one is marked as a 'County' and the other is marked as a 'city'. "
   ]
  },
  {
   "cell_type": "code",
   "execution_count": 123,
   "id": "9713b80c",
   "metadata": {},
   "outputs": [],
   "source": [
    "ans = []"
   ]
  },
  {
   "cell_type": "code",
   "execution_count": 124,
   "id": "30eb0b1d",
   "metadata": {},
   "outputs": [],
   "source": [
    "for county in counties_props:\n",
    "    #print(county['NAME'])\n",
    "    if county['NAME'] == 'Franklin' and county['STATE'] == '51':\n",
    "        ans.append(county)"
   ]
  },
  {
   "cell_type": "code",
   "execution_count": 125,
   "id": "e9ebb2a8",
   "metadata": {
    "lines_to_next_cell": 2
   },
   "outputs": [
    {
     "name": "stdout",
     "output_type": "stream",
     "text": [
      "{'GEO_ID': '0500000US51067', 'STATE': '51', 'COUNTY': '067', 'NAME': 'Franklin', 'LSAD': 'County', 'CENSUSAREA': 690.426}\n",
      "{'GEO_ID': '0500000US51620', 'STATE': '51', 'COUNTY': '620', 'NAME': 'Franklin', 'LSAD': 'city', 'CENSUSAREA': 8.206}\n"
     ]
    }
   ],
   "source": [
    "for county in ans:\n",
    "    print(county)"
   ]
  },
  {
   "cell_type": "markdown",
   "id": "b3106264",
   "metadata": {},
   "source": [
    "LSAD stands for 'Legal/Statistical Area Description'. It is a US Census designation that describes types of entities.\n",
    "\n",
    "The fact that there are two Franklins in Virginia, one with LSAD \"County\" and the other \"city\", raises a question about the data: why are some entries listed as LSAD type \"County\" but others not? How many LSAD types are included in this dataset?\n",
    "\n",
    "We can use the same methods as above to anwer these questions."
   ]
  },
  {
   "cell_type": "code",
   "execution_count": 126,
   "id": "df7380cb",
   "metadata": {
    "lines_to_next_cell": 2
   },
   "outputs": [
    {
     "name": "stdout",
     "output_type": "stream",
     "text": [
      "There are 2 counties of type .\n",
      "There are 12 counties of type Borough.\n",
      "There are 78 counties of type Muno.\n",
      "There are 4 counties of type Cty&Bor.\n",
      "There are 11 counties of type CA.\n",
      "There are 41 counties of type city.\n",
      "There are 2 counties of type Muny.\n",
      "There are 64 counties of type Parish.\n",
      "There are 3007 counties of type County.\n"
     ]
    }
   ],
   "source": [
    "LSAD_dict = aggDict(counties_props, 'LSAD')\n",
    "for LSAD in LSAD_dict:\n",
    "    print(f\"There are {len(LSAD_dict[LSAD])} counties of type {LSAD}.\")"
   ]
  },
  {
   "cell_type": "markdown",
   "id": "e94d49b6",
   "metadata": {},
   "source": [
    "We can see that there are 3,007 entries of type \"County,\" as we would expect, but more than a hundred entries with other LSAD values. We would have to know more about the dataset to understand why, but it's interesting to note that not all of the putative counties are listed as such."
   ]
  },
  {
   "cell_type": "markdown",
   "id": "f38769d1",
   "metadata": {},
   "source": [
    "## State-by-state analysis\n",
    "\n",
    "Next, we will examine state-level statistics. We can apply the same functions as above but aggregate on state code rather than county name. \n",
    "\n",
    "We can also see the top 5 states with the most counties using the same function as above."
   ]
  },
  {
   "cell_type": "code",
   "execution_count": 127,
   "id": "628f3a1d",
   "metadata": {},
   "outputs": [],
   "source": [
    "#Create dictionary aggregated by state code\n",
    "state_dict = aggDict(counties_props, 'STATE')"
   ]
  },
  {
   "cell_type": "code",
   "execution_count": 128,
   "id": "efccbee5",
   "metadata": {},
   "outputs": [
    {
     "name": "stdout",
     "output_type": "stream",
     "text": [
      "The five states with the most counties are: ['Texas', 'Georgia', 'Virginia', 'Kentucky', 'Missouri'])\n"
     ]
    }
   ],
   "source": [
    "print(f\"The five states with the most counties are: {[state_codes[state] for state in frequentValues(state_dict, 5)]})\")"
   ]
  },
  {
   "cell_type": "markdown",
   "id": "c4dda5bf",
   "metadata": {},
   "source": [
    "Next, we can use the state dictionary to calculate state statistics, writing the results to an output file."
   ]
  },
  {
   "cell_type": "code",
   "execution_count": 129,
   "id": "c32072fa",
   "metadata": {},
   "outputs": [],
   "source": [
    "#open the output file for writing (which clears the existing data in the file)\n",
    "output_file = open(\"counties_analysis_by_state.txt\", \"w\")"
   ]
  },
  {
   "cell_type": "code",
   "execution_count": 130,
   "id": "b646b819",
   "metadata": {},
   "outputs": [],
   "source": [
    "for state_code in frequentValues(state_dict, -1): #with n=-1, frequentValues() gives a list of all the  keys sorted by frequency\n",
    "\n",
    "    #state is the list of all counties in the state corresponding to state_code\n",
    "    state = state_dict[state_code]\n",
    "\n",
    "    #calculate how many counties are in this state\n",
    "    num_counties = len(state)\n",
    "\n",
    "    #get list of just the county areas in this state\n",
    "    area_list = [county['CENSUSAREA'] for county in state]\n",
    "\n",
    "    #calculate the mean of the county areas\n",
    "    mean_area = sum(area_list) / len(area_list)\n",
    "\n",
    "    #identify largest and smallest counties\n",
    "    smallest_county = state[area_list.index(min(area_list))]\n",
    "    biggest_county = state[area_list.index(max(area_list))]\n",
    "    \n",
    "    output_file.write(f\"The mean area of the {num_counties} counties in {state_codes[state_code]} is {round(mean_area, 2)}.\\n\")\n",
    "    output_file.write(f\"The smallest is {smallest_county['NAME']} County, with an area of {smallest_county['CENSUSAREA']}.\\n\")\n",
    "    output_file.write(f\"The largest is {biggest_county['NAME']} County, with an area of {biggest_county['CENSUSAREA']}.\\n\\n\")"
   ]
  },
  {
   "cell_type": "code",
   "execution_count": 131,
   "id": "982f60d3",
   "metadata": {},
   "outputs": [],
   "source": [
    "#close the output file\n",
    "output_file.close()"
   ]
  },
  {
   "cell_type": "code",
   "execution_count": 132,
   "id": "61e4a82c",
   "metadata": {},
   "outputs": [],
   "source": [
    "#open the output file again for reading\n",
    "output_file = open(\"counties_analysis_by_state.txt\", \"r\")"
   ]
  },
  {
   "cell_type": "code",
   "execution_count": 133,
   "id": "62477ad0",
   "metadata": {},
   "outputs": [
    {
     "name": "stdout",
     "output_type": "stream",
     "text": [
      "The mean area of the 254 counties in Texas is 1028.47.\n",
      "The smallest is Rockwall County, with an area of 127.036.\n",
      "The largest is Brewster County, with an area of 6183.733.\n",
      "\n",
      "The mean area of the 159 counties in Georgia is 361.72.\n",
      "The smallest is Clarke County, with an area of 119.2.\n",
      "The largest is Ware County, with an area of 892.461.\n",
      "\n",
      "The mean area of the 134 counties in Virginia is 294.7.\n",
      "The smallest is Falls Church County, with an area of 1.999.\n",
      "The largest is Pittsylvania County, with an area of 968.941.\n",
      "\n",
      "The mean area of the 120 counties in Kentucky is 329.05.\n",
      "The smallest is Robertson County, with an area of 99.911.\n",
      "The largest is Pike County, with an area of 786.833.\n",
      "\n",
      "The mean area of the 115 counties in Missouri is 597.75.\n",
      "The smallest is St. Louis County, with an area of 61.909.\n",
      "The largest is Texas County, with an area of 1177.266.\n",
      "\n",
      "The mean area of the 105 counties in Kansas is 778.65.\n",
      "The smallest is Wyandotte County, with an area of 151.6.\n",
      "The largest is Butler County, with\n"
     ]
    }
   ],
   "source": [
    "#print the first 1000 characters of the output file\n",
    "print(output_file.read(1000))"
   ]
  },
  {
   "cell_type": "code",
   "execution_count": 134,
   "id": "9a1b8e4b",
   "metadata": {},
   "outputs": [],
   "source": [
    "output_file.close()"
   ]
  },
  {
   "attachments": {},
   "cell_type": "markdown",
   "id": "b0d3a130",
   "metadata": {},
   "source": [
    "### Plotting the aggregated dictionaries\n",
    "Finally, we can use the aggDictPlot() function to take a look at dictionaries we've made so far. \n",
    "First, let's look at the top 20 most frequent county names.\n",
    "Note that the plotting  function properly capitalizes 'county' even though it is lowercase in the function call.         "
   ]
  },
  {
   "cell_type": "code",
   "execution_count": 139,
   "id": "ba250c79",
   "metadata": {},
   "outputs": [
    {
     "data": {
      "image/png": "[encoded data removed]",
      "text/plain": [
       "<Figure size 640x480 with 1 Axes>"
      ]
     },
     "metadata": {},
     "output_type": "display_data"
    }
   ],
   "source": [
    "aggDictPlot(county_dict, 'county', save=True, n=20)"
   ]
  },
  {
   "attachments": {},
   "cell_type": "markdown",
   "id": "dd683081",
   "metadata": {},
   "source": [
    "Next, we can do the same for states, using the default number of elements to plot and the stateName function to get the state names from the state codes. \n"
   ]
  },
  {
   "cell_type": "code",
   "execution_count": 140,
   "id": "00ec8d82",
   "metadata": {},
   "outputs": [
    {
     "data": {
      "image/png": "[encoded data removed]",
      "text/plain": [
       "<Figure size 640x480 with 1 Axes>"
      ]
     },
     "metadata": {},
     "output_type": "display_data"
    }
   ],
   "source": [
    "aggDictPlot(state_dict, 'State', save=True, xAlias=stateName)"
   ]
  },
  {
   "attachments": {},
   "cell_type": "markdown",
   "id": "de694568",
   "metadata": {},
   "source": [
    "Finally, in the case of the LSAD function, the plot can tell that all of the elements are plotted, so the title changes accordingly.\n",
    "\n",
    "Also note that the plotting function corrects the lowercase \"a\" in the function call for \"area\" below.\n"
   ]
  },
  {
   "cell_type": "code",
   "execution_count": 141,
   "id": "4b2fe46b",
   "metadata": {},
   "outputs": [
    {
     "data": {
      "image/png": "[encoded data removed]",
      "text/plain": [
       "<Figure size 640x480 with 1 Axes>"
      ]
     },
     "metadata": {},
     "output_type": "display_data"
    }
   ],
   "source": [
    "aggDictPlot(LSAD_dict, 'Legal/Statistical area Description', save=True)"
   ]
  },
  {
   "attachments": {},
   "cell_type": "markdown",
   "id": "5e032119",
   "metadata": {},
   "source": [
    "These three plots can also be found as .png files in the working directory."
   ]
  }
 ],
 "metadata": {
  "jupytext": {
   "cell_metadata_filter": "-all",
   "main_language": "python",
   "notebook_metadata_filter": "-all"
  },
  "kernelspec": {
   "display_name": "base",
   "language": "python",
   "name": "python3"
  },
  "language_info": {
   "codemirror_mode": {
    "name": "ipython",
    "version": 3
   },
   "file_extension": ".py",
   "mimetype": "text/x-python",
   "name": "python",
   "nbconvert_exporter": "python",
   "pygments_lexer": "ipython3",
   "version": "3.9.13"
  },
  "vscode": {
   "interpreter": {
    "hash": "155974f746c9def5d634c5ca794fe02b4d0533761ca8df544901bc3838d900e0"
   }
  }
 },
 "nbformat": 4,
 "nbformat_minor": 5
}
