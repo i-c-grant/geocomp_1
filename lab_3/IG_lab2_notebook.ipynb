{
 "cells": [
  {
   "cell_type": "markdown",
   "id": "ee3c9b6d",
   "metadata": {},
   "source": [
    "# Lab 3\n",
    "## Ian Grant"
   ]
  },
  {
   "cell_type": "code",
   "execution_count": null,
   "id": "34e3ffad",
   "metadata": {},
   "outputs": [],
   "source": [
    "import requests, json, numpy\n",
    "import matplotlib.pyplot as plt"
   ]
  },
  {
   "cell_type": "code",
   "execution_count": null,
   "id": "129d8b4b",
   "metadata": {},
   "outputs": [],
   "source": [
    "# May not run. Check the online source.\n",
    "url = \"https://eric.clst.org/assets/wiki/uploads/Stuff/gz_2010_us_050_00_5m.json\""
   ]
  },
  {
   "cell_type": "code",
   "execution_count": null,
   "id": "64dee5bc",
   "metadata": {},
   "outputs": [],
   "source": [
    "with requests.get(url) as response:\n",
    "    data = response.json()\n",
    "    # Two different ways of composing text messages. The format function is preferred.\n",
    "    print('Number of Counties in US: ' + str(len(data['features'])))\n",
    "    print('First entry is {}'.format(data['features'][0]['properties']['NAME']))"
   ]
  },
  {
   "cell_type": "markdown",
   "id": "e6bc0cf0",
   "metadata": {},
   "source": [
    "## Analysis of data file\n",
    "\n",
    "### Top-level structure\n",
    "First, I analyzed the structure of the data file in preparation for further analysis.\n",
    "\n",
    "The following analysis shows that the top-level structure is a dictionary with two keys, 'type' and 'features':\n",
    "    - The value for 'type' is the string 'FeatureCollection'; this likely indicates the overall type of the data structure stored in 'data'.\n",
    "    - The value for 'features' is a list containing the county data, discussed further below."
   ]
  },
  {
   "cell_type": "code",
   "execution_count": null,
   "id": "a871a006",
   "metadata": {},
   "outputs": [],
   "source": [
    "print(f\"'data' is a data structure of type: {type(data)}\")\n",
    "print(f\"The keys of the 'data' dictionary are: {data.keys()}\\n\")"
   ]
  },
  {
   "cell_type": "code",
   "execution_count": null,
   "id": "40f95ffb",
   "metadata": {},
   "outputs": [],
   "source": [
    "print(f\"The value for the 'type' key in the 'data' dictionary is of type: {type(data['type'])}\")\n",
    "print(f\"The value corresponding to the 'type' key is: {data['type']}\\n\")"
   ]
  },
  {
   "cell_type": "code",
   "execution_count": null,
   "id": "865e21db",
   "metadata": {},
   "outputs": [],
   "source": [
    "print(f\"The value for the 'features' key in 'data' dict is of type: {type(data['features'])}\\n\")"
   ]
  },
  {
   "cell_type": "markdown",
   "id": "166df0bc",
   "metadata": {},
   "source": [
    "### Features list\n",
    "Next, I examined the structure of the 'features' list.\n",
    "\n",
    "First, I look at the beginning of the list to observe its structure.\n",
    "It looks like the first element is a dictionary that corresponds to one county, since we can see 'NAME': 'Valdez-Cordov' and 'STATE: '02''\n",
    "I confirmed this by looking at the types of the first two elements in the list; both are dictionaries. "
   ]
  },
  {
   "cell_type": "code",
   "execution_count": null,
   "id": "b201c8f2",
   "metadata": {},
   "outputs": [],
   "source": [
    "#Look at just the first 2000 characters of 'features' to evaluate the structure (otherwise it is quite long)\n",
    "features_excerpt = str(data['features'])[:2000] + \"\\n\"\n",
    "print(features_excerpt)"
   ]
  },
  {
   "cell_type": "code",
   "execution_count": null,
   "id": "b565c269",
   "metadata": {},
   "outputs": [],
   "source": [
    "print(f\"Types of first and second elements in 'features' (respectively): {type(data['features'][0]), type(data['features'][1])}\\n\")"
   ]
  },
  {
   "cell_type": "markdown",
   "id": "dba65916",
   "metadata": {},
   "source": [
    "### Properties dictionaries\n",
    "\n",
    "Finally, I explored the structure of the dictionaries corresponding to counties.\n",
    "The keys at the county level are 'type', 'properties', and 'geometry'.\n",
    "For this assignment, we probably do not need the coordinates stored in 'geometry'. I confirm this by observing the value for the \"properties\" key; it has everything needed for this assignment."
   ]
  },
  {
   "cell_type": "code",
   "execution_count": null,
   "id": "0fc7bedd",
   "metadata": {},
   "outputs": [],
   "source": [
    "first_county = data['features'][0]\n",
    "print(first_county.keys())\n",
    "print(type(first_county['properties']))\n",
    "print(first_county['properties'])"
   ]
  },
  {
   "cell_type": "markdown",
   "id": "6bcc1c73",
   "metadata": {},
   "source": [
    "## Data processing and function definition\n",
    "\n",
    "### Extracting the 'properties' dictionaries\n",
    "\n",
    "Based on the results of the analysis above, we only need to deal with the 'properties' dictionaries within 'data'. This is a relatively small part of the data file, since most of the data is geometric coordinates. Therefore, the first step is to make a list of just the 'properties' dictionaries."
   ]
  },
  {
   "cell_type": "code",
   "execution_count": null,
   "id": "18f6ded7",
   "metadata": {},
   "outputs": [],
   "source": [
    "counties_props = []"
   ]
  },
  {
   "cell_type": "code",
   "execution_count": null,
   "id": "3020cdb8",
   "metadata": {},
   "outputs": [],
   "source": [
    "for county in data['features']:\n",
    "    counties_props.append(county['properties'])"
   ]
  },
  {
   "cell_type": "markdown",
   "id": "933b264a",
   "metadata": {
    "lines_to_next_cell": 2
   },
   "source": [
    "We no longer need to store the whole input file in 'data', but I have left this commented for convenience\n",
    "del(data)"
   ]
  },
  {
   "cell_type": "markdown",
   "id": "d5bab254",
   "metadata": {},
   "source": [
    "### Aggregating the counties\n",
    "\n",
    "First, I define a function called aggregateCounties() that will return a dictionary that aggregates the counties according to the values of a specified property.\n",
    "\n",
    "The keys of the dictionary are all the unique values of the specified property.\n",
    "\n",
    "The value for each key is a list containing the properties dictionary of each county that matches the key.\n",
    "\n",
    "For example, if we aggregate by state, the function will return a dict where the keys are the state names and the values are lists of counties that fall within each state (see the analysis by state below)."
   ]
  },
  {
   "cell_type": "code",
   "execution_count": null,
   "id": "58d148ee",
   "metadata": {
    "lines_to_next_cell": 1
   },
   "outputs": [],
   "source": [
    "def aggDict(dict_list, common_key):\n",
    "    # Aggregate a list of dictionaries by one of their common keys.\n",
    "\n",
    "    # Arguments:\n",
    "    # dict_list -- A list of dicts; all dicts must include at least one common key.\n",
    "    # commmon_key -- The key by which to aggregate the list of dictionaries; all dicts in  dict_list must contain common_key.\n",
    "    # plot -- If true, produce a bar chart showing the frequency of each item in aggDict().\n",
    "    # plot_n -- The number of categories to include in bar chart; the n most frequent values will be charted.\n",
    "\n",
    "    # Returns:\n",
    "    # dict: {each unique value corresponding to common_key : [matching dicts from list_dict]} -- Aggregated dictionary. Keys are the set of unique values of common_key. Values are lists of all the dicts in list_dict that match each value of common_key.\n",
    "   \n",
    "    agg_dict = {}\n",
    "\n",
    "    #create a set of all the unique values corresponding to common_key\n",
    "    common_key_values = {listed_dict[common_key] for listed_dict in dict_list}\n",
    "    \n",
    "    #initialize dictionary with unique values as keys and empty lists as values\n",
    "    agg_dict = {common_key_value:[] for common_key_value in common_key_values}\n",
    "\n",
    "    #update the values for each key in the dict\n",
    "    for listed_dict in dict_list:\n",
    "        #append the properties dict of the current county to the value of the appropriate agg_dict key\n",
    "        agg_dict[listed_dict[common_key]].append(listed_dict)\n",
    "\n",
    "    return agg_dict"
   ]
  },
  {
   "cell_type": "markdown",
   "id": "049ee079",
   "metadata": {},
   "source": [
    "### Calculating the most frequent values\n",
    "\n",
    "Next, we'll make a function that uses an aggegated dictionary to return a sorted list of the n keys with the most counties.\n",
    "\n",
    "Taking our state example above, we could use this function with the dictionary aggregated by state to return the five states with the most counties."
   ]
  },
  {
   "cell_type": "code",
   "execution_count": null,
   "id": "bd18e3f8",
   "metadata": {
    "lines_to_next_cell": 1
   },
   "outputs": [],
   "source": [
    "def frequentValues(agg_dict, n):\n",
    "    # Returns a sorted list of the n keys in an aggregated dictionary that correspond to the largest values.\n",
    "    \n",
    "    # Arguments:\n",
    "    # agg_dict -- An aggregated dictionary; see aggDict().\n",
    "    # n -- number of keys to return\n",
    "    \n",
    "    # Returns:\n",
    "    # list[n keys of agg_dict corresponding to the longest values]: A list of keys  sorted in descending order by length of value list corresponding to each key. \n",
    "    \n",
    "    #cap n at the length of the dictionary, and set to full length if n=-1\n",
    "    if n > len(agg_dict) or n == -1:\n",
    "        n = len(agg_dict)\n",
    "\n",
    "     #Make a 2D array holding the n most common values and the number of counties for each value\n",
    "     #This array will update as we search the dict \n",
    "    frequent_values = [[None, 0] for i in range(n)]\n",
    "\n",
    "    for key in agg_dict:\n",
    "        #calculate the number of counties in the current key of the aggregated dictionary\n",
    "        value_count = len(agg_dict[key])\n",
    "\n",
    "        frequent_values_counts = [frequent_value[1] for frequent_value in frequent_values]\n",
    "\n",
    "        if value_count > min(frequent_values_counts):\n",
    "            index = frequent_values_counts.index(min(frequent_values_counts))\n",
    "            frequent_values[index] = [key, value_count]\n",
    "\n",
    "    sorted_frequent_values = sorted(frequent_values, key=lambda row : row[1], reverse=True)\n",
    "    sorted_frequent_values_keys = [key[0] for key in sorted_frequent_values]\n",
    "    \n",
    "    return sorted_frequent_values_keys"
   ]
  },
  {
   "cell_type": "code",
   "execution_count": null,
   "id": "b708fe67",
   "metadata": {
    "lines_to_next_cell": 1
   },
   "outputs": [],
   "source": [
    "# Plot an aggregated dictionary with key values on x-axis and frequencies on y-axis\n",
    "def aggDictPlot(agg_dict, x_title, n=10, save=False, xAlias=lambda x : x):\n",
    "\n",
    "    plt.close() #closes previous figures if any are open; avoids data from multiple function calls being combined into single figure, but maybe there's a better way\n",
    "    \n",
    "    #subset is true if n is set to plot only a subset of the key values in agg_dict\n",
    "    subset = n < len(agg_dict)\n",
    "    \n",
    "    if subset:\n",
    "        keys_to_plot = frequentValues(agg_dict, n)\n",
    "    else:\n",
    "        #returns all keys sorted by frequency\n",
    "        keys_to_plot = frequentValues(agg_dict, -1)\n",
    "        \n",
    "    frequencies = [len(agg_dict[key]) for key in keys_to_plot]\n",
    "\n",
    "    #set title of plot;\n",
    "    if subset:\n",
    "        title = f\"Top {n} Most Frequent Values of {titleLabelStyle(x_title)}\"\n",
    "    else:\n",
    "        title = f\"Frequency of All Unique Values of {titleLabelStyle(x_title)}\"\n",
    "\n",
    "    keys_to_plot_alias = [xAlias(key) for key in keys_to_plot] \n",
    "    \n",
    "    #make and show plot\n",
    "    plt.bar(keys_to_plot_alias, frequencies)\n",
    "    plt.title(title)\n",
    "    plt.xlabel(x_title)\n",
    "    plt.xticks(rotation=45, ha='right')\n",
    "    plt.ylabel(\"Frequency\")\n",
    "    \n",
    "    if save:\n",
    "        filename = title.replace(\" \", \"_\")\n",
    "        plt.savefig(f\"{filename}.png\", bbox_inches=\"tight\", pad_inches=.5)\n",
    "    else:\n",
    "        plt.show()"
   ]
  },
  {
   "cell_type": "code",
   "execution_count": null,
   "id": "abc6543a",
   "metadata": {},
   "outputs": [],
   "source": [
    "def titleLabelStyle(title_label):\n",
    "    if title_label.isupper():\n",
    "        return title_label\n",
    "    else:\n",
    "        return title_label.capitalize()"
   ]
  },
  {
   "cell_type": "code",
   "execution_count": null,
   "id": "7d5f871f",
   "metadata": {},
   "outputs": [],
   "source": []
  },
  {
   "cell_type": "markdown",
   "id": "47a45992",
   "metadata": {},
   "source": [
    "### State codes dictionary\n",
    "\n",
    "Before we continue, let's define a dictionary of all the state codes so that we can display the states by name."
   ]
  },
  {
   "cell_type": "code",
   "execution_count": null,
   "id": "3673deb6",
   "metadata": {},
   "outputs": [],
   "source": [
    "state_codes_def = \"\"\"01,Alabama\n",
    "02,Alaska\n",
    "04,Arizona\n",
    "05,Arkansas\n",
    "06,California\n",
    "08,Colorado\n",
    "09,Connecticut\n",
    "10,Delaware\n",
    "11,District of Columbia\n",
    "12,Florida\n",
    "13,Georgia\n",
    "15,Hawaii\n",
    "16,Idaho\n",
    "17,Illinois\n",
    "18,Indiana\n",
    "19,Iowa\n",
    "20,Kansas\n",
    "21,Kentucky\n",
    "22,Louisiana\n",
    "23,Maine\n",
    "24,Maryland\n",
    "25,Massachusetts\n",
    "26,Michigan\n",
    "27,Minnesota\n",
    "28,Mississippi\n",
    "29,Missouri\n",
    "30,Montana\n",
    "31,Nebraska\n",
    "32,Nevada\n",
    "33,New Hampshire\n",
    "34,New Jersey\n",
    "35,New Mexico\n",
    "36,New York\n",
    "37,North Carolina\n",
    "38,North Dakota\n",
    "39,Ohio\n",
    "40,Oklahoma\n",
    "41,Oregon\n",
    "42,Pennsylvania\n",
    "44,Rhode Island\n",
    "45,South Carolina\n",
    "46,South Dakota\n",
    "47,Tennessee\n",
    "48,Texas\n",
    "49,Utah\n",
    "50,Vermont\n",
    "51,Virginia\n",
    "53,Washington\n",
    "54,West Virginia\n",
    "55,Wisconsin\n",
    "56,Wyoming\n",
    "72,Puerto Rico\"\"\""
   ]
  },
  {
   "cell_type": "code",
   "execution_count": null,
   "id": "0550b616",
   "metadata": {},
   "outputs": [],
   "source": [
    "#Parse defintion string into 2D list of format [[code1, state1], [code2, state2], etc.]\n",
    "state_codes_def = state_codes_def.split('\\n')\n",
    "for i in range(len(state_codes_def)):\n",
    "    state_codes_def[i] = state_codes_def[i].split(',')"
   ]
  },
  {
   "cell_type": "code",
   "execution_count": null,
   "id": "187c0e47",
   "metadata": {},
   "outputs": [],
   "source": [
    "#Create state codes dictionary\n",
    "state_codes = {}\n",
    "for pair in state_codes_def:\n",
    "    state_codes[pair[0]] = pair[1]"
   ]
  },
  {
   "cell_type": "code",
   "execution_count": null,
   "id": "2ff523b9",
   "metadata": {
    "lines_to_next_cell": 1
   },
   "outputs": [],
   "source": [
    "print(f\"State code '51' corresponds to {state_codes['51']}.\")"
   ]
  },
  {
   "cell_type": "code",
   "execution_count": null,
   "id": "f7e04370",
   "metadata": {
    "lines_to_next_cell": 1
   },
   "outputs": [],
   "source": [
    "# We can also make a function that will take the state code and return the state.\n",
    "# This will come in handy for making graphs later.\n",
    "def stateName(key):\n",
    "    return state_codes[key]"
   ]
  },
  {
   "cell_type": "markdown",
   "id": "fbd89a46",
   "metadata": {},
   "source": [
    "## County names analysis\n",
    "\n",
    "We can use these functions to aggregate counties by county name and then look at the three most frequently occuring counties. \n",
    "\n",
    "We can see that \"Washington\" is first, \"Jefferson\" is second, and \"Franklin\" is third, and we can verify this by checking the number of counties that appear for each key. "
   ]
  },
  {
   "cell_type": "code",
   "execution_count": null,
   "id": "6a350f5a",
   "metadata": {},
   "outputs": [],
   "source": [
    "county_dict = aggDict(counties_props, 'NAME')\n",
    "common_county_names = frequentValues(county_dict, 3)"
   ]
  },
  {
   "cell_type": "code",
   "execution_count": null,
   "id": "16f7861e",
   "metadata": {
    "lines_to_next_cell": 2
   },
   "outputs": [],
   "source": [
    "for county_name in common_county_names:\n",
    "    print(f\"There are {len(county_dict[county_name])} {county_name} Counties.\")"
   ]
  },
  {
   "cell_type": "markdown",
   "id": "f3fc24d3",
   "metadata": {},
   "source": [
    "We can use the resulting list of county names to get more information about those counties."
   ]
  },
  {
   "cell_type": "code",
   "execution_count": null,
   "id": "da4e3114",
   "metadata": {
    "lines_to_next_cell": 2
   },
   "outputs": [],
   "source": [
    "#Iterate through list of most common names\n",
    "for county_name in common_county_names:\n",
    "    #Print states where each county name appears\n",
    "    print(f\"There are {len(county_dict[county_name])} {county_name} Counties, one each in the following states:\\n {[state_codes[county['STATE']] for county in county_dict[county_name]]} \\n\")"
   ]
  },
  {
   "cell_type": "markdown",
   "id": "05afe6f3",
   "metadata": {},
   "source": [
    "Interestingly, there are two Franklin Counties for state code 51 (Virginia). I wanted to be sure this was not an error in my analysis, so I checked the corresponding entries in the counties_props list. \n",
    "\n",
    "We can see that there are indeed two distinct county entries that differ in the 'LSAD' property: one is marked as a 'County' and the other is marked as a 'city'. "
   ]
  },
  {
   "cell_type": "code",
   "execution_count": null,
   "id": "f045c53d",
   "metadata": {},
   "outputs": [],
   "source": [
    "ans = []"
   ]
  },
  {
   "cell_type": "code",
   "execution_count": null,
   "id": "a4ca5da8",
   "metadata": {},
   "outputs": [],
   "source": [
    "for county in counties_props:\n",
    "    #print(county['NAME'])\n",
    "    if county['NAME'] == 'Franklin' and county['STATE'] == '51':\n",
    "        ans.append(county)"
   ]
  },
  {
   "cell_type": "code",
   "execution_count": null,
   "id": "7adfbec8",
   "metadata": {
    "lines_to_next_cell": 2
   },
   "outputs": [],
   "source": [
    "for county in ans:\n",
    "    print(county)"
   ]
  },
  {
   "cell_type": "markdown",
   "id": "4b53c04f",
   "metadata": {},
   "source": [
    "LSAD stands for 'Legal/Statistical Area Description'. It is a US Census designation that describes types of entities.\n",
    "\n",
    "The fact that there are two Franklins in Virginia, one with LSAD \"County\" and the other \"city\", raises a question about the data: why are some entries listed as LSAD type \"County\" but others not? How many LSAD types are included in this dataset?\n",
    "\n",
    "We can use the same methods as above to anwer these questions."
   ]
  },
  {
   "cell_type": "code",
   "execution_count": null,
   "id": "fee0e0a9",
   "metadata": {
    "lines_to_next_cell": 2
   },
   "outputs": [],
   "source": [
    "LSAD_dict = aggDict(counties_props, 'LSAD')\n",
    "for LSAD in LSAD_dict:\n",
    "    print(f\"There are {len(LSAD_dict[LSAD])} counties of type {LSAD}.\")"
   ]
  },
  {
   "cell_type": "markdown",
   "id": "cd35e5b6",
   "metadata": {},
   "source": [
    "We can see that there are 3,007 entries of type \"County,\" as we would expect, but more than a hundred entries with other LSAD values. We would have to know more about the dataset to understand why, but it's interesting to note that not all of the putative counties are listed as such."
   ]
  },
  {
   "cell_type": "markdown",
   "id": "702ada85",
   "metadata": {},
   "source": [
    "## State-by-state analysis\n",
    "\n",
    "Next, we will examine state-level statistics. We can apply the same functions as above but aggregate on state code rather than county name. \n",
    "\n",
    "We can also see the top 5 states with the most counties using the same function as above."
   ]
  },
  {
   "cell_type": "code",
   "execution_count": null,
   "id": "69674cc7",
   "metadata": {},
   "outputs": [],
   "source": [
    "#Create dictionary aggregated by state code\n",
    "state_dict = aggDict(counties_props, 'STATE')"
   ]
  },
  {
   "cell_type": "code",
   "execution_count": null,
   "id": "b974cdae",
   "metadata": {},
   "outputs": [],
   "source": [
    "print(f\"The five states with the most counties are: {[state_codes[state] for state in frequentValues(state_dict, 5)]})\")"
   ]
  },
  {
   "cell_type": "markdown",
   "id": "1c27c2d8",
   "metadata": {},
   "source": [
    "Next, we can use the state dictionary to calculate state statistics, writing the results to an output file."
   ]
  },
  {
   "cell_type": "code",
   "execution_count": null,
   "id": "dcc0bf6f",
   "metadata": {},
   "outputs": [],
   "source": [
    "#open the output file for writing (which clears the existing data in the file)\n",
    "output_file = open(\"counties_analysis_by_state.txt\", \"w\")"
   ]
  },
  {
   "cell_type": "code",
   "execution_count": null,
   "id": "c291063c",
   "metadata": {},
   "outputs": [],
   "source": [
    "for state_code in frequentValues(state_dict, -1): #with n=-1, frequentValues() gives a list of all the  keys sorted by frequency\n",
    "\n",
    "    #state is the list of all counties in the state corresponding to state_code\n",
    "    state = state_dict[state_code]\n",
    "\n",
    "    #calculate how many counties are in this state\n",
    "    num_counties = len(state)\n",
    "\n",
    "    #get list of just the county areas in this state\n",
    "    area_list = [county['CENSUSAREA'] for county in state]\n",
    "\n",
    "    #calculate the mean of the county areas\n",
    "    mean_area = sum(area_list) / len(area_list)\n",
    "\n",
    "    #identify largest and smallest counties\n",
    "    smallest_county = state[area_list.index(min(area_list))]\n",
    "    biggest_county = state[area_list.index(max(area_list))]\n",
    "    \n",
    "    output_file.write(f\"The mean area of the {num_counties} counties in {state_codes[state_code]} is {round(mean_area, 2)}.\\n\")\n",
    "    output_file.write(f\"The smallest is {smallest_county['NAME']} County, with an area of {smallest_county['CENSUSAREA']}.\\n\")\n",
    "    output_file.write(f\"The largest is {biggest_county['NAME']} County, with an area of {biggest_county['CENSUSAREA']}.\\n\\n\")"
   ]
  },
  {
   "cell_type": "code",
   "execution_count": null,
   "id": "873a9e1f",
   "metadata": {},
   "outputs": [],
   "source": [
    "#close the output file\n",
    "output_file.close()"
   ]
  },
  {
   "cell_type": "code",
   "execution_count": null,
   "id": "b4657b44",
   "metadata": {},
   "outputs": [],
   "source": [
    "#open the output file again for reading\n",
    "output_file = open(\"counties_analysis_by_state.txt\", \"r\")"
   ]
  },
  {
   "cell_type": "code",
   "execution_count": null,
   "id": "19500bf5",
   "metadata": {},
   "outputs": [],
   "source": [
    "#print the first 1000 characters of the output file\n",
    "print(output_file.read(1000))"
   ]
  },
  {
   "cell_type": "code",
   "execution_count": null,
   "id": "5ef2b7dc",
   "metadata": {},
   "outputs": [],
   "source": [
    "output_file.close()"
   ]
  },
  {
   "cell_type": "code",
   "execution_count": null,
   "id": "48169118",
   "metadata": {},
   "outputs": [],
   "source": [
    "aggDictPlot(county_dict, 'county', save=True, n=20)\n",
    "aggDictPlot(state_dict, 'State', save=True, xAlias=stateName)\n",
    "aggDictPlot(county_dict, 'LSAD', save=True)"
   ]
  },
  {
   "cell_type": "code",
   "execution_count": null,
   "id": "68133b5c",
   "metadata": {},
   "outputs": [],
   "source": []
  },
  {
   "cell_type": "code",
   "execution_count": null,
   "id": "553504d1",
   "metadata": {},
   "outputs": [],
   "source": []
  },
  {
   "cell_type": "code",
   "execution_count": null,
   "id": "0861414e",
   "metadata": {},
   "outputs": [],
   "source": []
  }
 ],
 "metadata": {
  "jupytext": {
   "cell_metadata_filter": "-all",
   "main_language": "python",
   "notebook_metadata_filter": "-all"
  }
 },
 "nbformat": 4,
 "nbformat_minor": 5
}
