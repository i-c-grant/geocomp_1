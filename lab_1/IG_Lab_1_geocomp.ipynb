{
 "cells": [
  {
   "attachments": {},
   "cell_type": "markdown",
   "metadata": {},
   "source": [
    "#Lab 1, Geocomputation 1\n",
    "##Ian Grant"
   ]
  },
  {
   "cell_type": "code",
   "execution_count": 217,
   "metadata": {},
   "outputs": [
    {
     "name": "stdout",
     "output_type": "stream",
     "text": [
      "3.9.13\n"
     ]
    }
   ],
   "source": [
    "import platform\n",
    "print(platform.python_version())"
   ]
  },
  {
   "attachments": {},
   "cell_type": "markdown",
   "metadata": {},
   "source": [
    "# Generating a random list of numbers"
   ]
  },
  {
   "cell_type": "code",
   "execution_count": 218,
   "metadata": {},
   "outputs": [
    {
     "name": "stdout",
     "output_type": "stream",
     "text": [
      "Generated list: [33, 19, 48, 98, 93, 59, 58, 53, 8, 78, 11, 17, 25, 82, 77, 29, 25, 18, 93, 5]\n"
     ]
    }
   ],
   "source": [
    "import random\n",
    "import numpy as np #for testing\n",
    "random.seed(6245)\n",
    "\n",
    "#Generate a list of random integers\n",
    "def randList(min, max, length):\n",
    "    i = 0\n",
    "    ans = [None] * length\n",
    "    for i in range(length):\n",
    "        ans[i] = random.randint(min, max)\n",
    "    return ans\n",
    "\n",
    "myList = randList(1,100,20)\n",
    "print(f\"Generated list: {myList}\")\n"
   ]
  },
  {
   "attachments": {},
   "cell_type": "markdown",
   "metadata": {},
   "source": [
    "# Calculating mean and variance\n",
    "## Mean"
   ]
  },
  {
   "cell_type": "code",
   "execution_count": 219,
   "metadata": {},
   "outputs": [],
   "source": [
    "def mean_custom(numList):\n",
    "    ans = 0\n",
    "\n",
    "    #iteratively calculate sum of list\n",
    "    for i in numList:\n",
    "        ans += i\n",
    "    \n",
    "    #divide by list length to obtain the mean\n",
    "    ans = ans / len(numList)\n",
    "\n",
    "    return ans\n"
   ]
  },
  {
   "attachments": {},
   "cell_type": "markdown",
   "metadata": {},
   "source": [
    "## Variance"
   ]
  },
  {
   "cell_type": "code",
   "execution_count": 220,
   "metadata": {},
   "outputs": [
    {
     "name": "stdout",
     "output_type": "stream",
     "text": [
      "Mean calculated by custom function: 46.45\n",
      "Mean calculated by NumPy::46.45\n",
      "Variance calculated by custom function: 940.4475\n",
      "Mean calculated by NumPy::940.4475\n"
     ]
    }
   ],
   "source": [
    "def variance_custom(numList):\n",
    "\n",
    "    mean = mean_custom(numList)\n",
    "    ans = 0\n",
    "\n",
    "    #iteratively calculate sum of squared differences\n",
    "    for i in numList:\n",
    "        ans += (i - mean)**2\n",
    "    \n",
    "    #divide by list length to obtain the variance\n",
    "    ans = ans / len(numList)\n",
    "\n",
    "    return ans \n",
    "\n",
    "\n",
    "myMean = mean_custom(myList)\n",
    "numPyMean = np.mean(myList)\n",
    "myVariance = variance_custom(myList)\n",
    "numPyVariance = np.var(myList)\n",
    "\n",
    "print(f\"Mean calculated by custom function: {mean_custom(myList)}\")\n",
    "print(f\"Mean calculated by NumPy::{np.mean(myList)}\")\n",
    "print(f\"Variance calculated by custom function: {variance_custom(myList)}\")\n",
    "print(f\"Mean calculated by NumPy::{np.var(myList)}\")"
   ]
  },
  {
   "attachments": {},
   "cell_type": "markdown",
   "metadata": {},
   "source": [
    "# Recursive versions (for fun)\n",
    "\n",
    "Here, a recursive sum function is used to calculate the mean; this mean function is then used to support a recursive variance function.\n",
    "\n",
    "Originally, I tried to make a recursive mean function directly, but I encountered an interesting problem. In my first attempt, I split the list and then called the recursive mean function on each of the two halves; the function would return the sum of these two halves divided by two. However, for lists with odd-numbered lengths, this approach does not work because the two halves should have different weights in the final mean (since one half has one more element than the other).\n",
    "\n",
    "## Recursive mean"
   ]
  },
  {
   "cell_type": "code",
   "execution_count": 221,
   "metadata": {},
   "outputs": [
    {
     "name": "stdout",
     "output_type": "stream",
     "text": [
      "Mean calculated by recursive function: 46.45\n",
      "Mean calculated by NumPy::46.45\n"
     ]
    }
   ],
   "source": [
    "def sum_recursive(myList):\n",
    "    length = len(myList)\n",
    "    split = length // 2\n",
    "    firstHalf = myList[:split]\n",
    "    secondHalf = myList[split:]\n",
    "\n",
    "    #If list has more than one element, split the list and return the sum of sum_recursive called on the two halves\n",
    "    if length > 1:\n",
    "        return sum_recursive(firstHalf) + sum_recursive(secondHalf)\n",
    "\n",
    "    #If list has one element, return that element\n",
    "    elif length == 1:\n",
    "        return myList[0]\n",
    "\n",
    "    #Otherwise return 0 (this will only happen if the original list is empty)\n",
    "    else:\n",
    "        return 0\n",
    "\n",
    "def mean_recursive(myList):\n",
    "    return sum_recursive(myList) / len(myList)\n",
    "\n",
    "print(f\"Mean calculated by recursive function: {mean_recursive(myList)}\")\n",
    "print(f\"Mean calculated by NumPy::{np.mean(myList)}\")"
   ]
  },
  {
   "attachments": {},
   "cell_type": "markdown",
   "metadata": {},
   "source": [
    "## Recursive variance\n",
    "For variance, two functions are necessary because the mean and the length must be passed through as parameters rather than calculated at each step.\n",
    "Variance_recursive_helper could be used as the main function, but this would require specifying the mean and the length every time the function is called."
   ]
  },
  {
   "cell_type": "code",
   "execution_count": 222,
   "metadata": {},
   "outputs": [
    {
     "name": "stdout",
     "output_type": "stream",
     "text": [
      "Variance calculated by custom function: 940.4475\n",
      "Mean calculated by NumPy::940.4475\n"
     ]
    }
   ],
   "source": [
    "def variance_recursive(myList):\n",
    "    return variance_recursive_helper(myList, np.mean(myList), len(myList))\n",
    "\n",
    "def variance_recursive_helper(myList, mean, totalListLength):\n",
    "    length = len(myList)\n",
    "\n",
    "    #If list has more than 1 element, split the list\n",
    "    if length > 1:\n",
    "        half = length // 2\n",
    "        firstHalf = myList[:half]\n",
    "        secondHalf = myList[half:]\n",
    "    #Return the sum of variance_recursive_helper called on each half of the list\n",
    "        return (variance_recursive_helper(firstHalf, mean, totalListLength) + variance_recursive_helper(secondHalf, mean, totalListLength))\n",
    "    \n",
    "    #If the list has one element, return that element's squared difference\n",
    "    elif length == 1:\n",
    "        return (myList[0] - mean)**2 / totalListLength\n",
    "    else:\n",
    "        return \"empty list\"\n",
    "\n",
    "print(f\"Variance calculated by custom function: {variance_recursive(myList)}\")\n",
    "print(f\"Mean calculated by NumPy::{np.var(myList)}\")"
   ]
  }
 ],
 "metadata": {
  "kernelspec": {
   "display_name": "base",
   "language": "python",
   "name": "python3"
  },
  "language_info": {
   "codemirror_mode": {
    "name": "ipython",
    "version": 3
   },
   "file_extension": ".py",
   "mimetype": "text/x-python",
   "name": "python",
   "nbconvert_exporter": "python",
   "pygments_lexer": "ipython3",
   "version": "3.9.13"
  },
  "orig_nbformat": 4,
  "vscode": {
   "interpreter": {
    "hash": "155974f746c9def5d634c5ca794fe02b4d0533761ca8df544901bc3838d900e0"
   }
  }
 },
 "nbformat": 4,
 "nbformat_minor": 2
}
