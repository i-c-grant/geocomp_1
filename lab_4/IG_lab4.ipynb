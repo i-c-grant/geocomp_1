{
 "cells": [
  {
   "attachments": {},
   "cell_type": "markdown",
   "metadata": {},
   "source": [
    "# Lab 4\n",
    "## Ian Grant\n",
    "\n",
    "## Module design\n",
    "\n",
    "I designed a Geom module that supports operations with triangles, circles, and squares and could be extended to other shapes.\n",
    "\n",
    "The class structure of the module is as follows:\n",
    "\n",
    "Geom\n",
    "    Shape\n",
    "        Triangle\n",
    "        Circle\n",
    "        Square\n",
    "    Vector\n",
    "    Point\n",
    "\n",
    "The Point class is used to define the coordinate of the vertices (or, in the case of Circle, the center point) of the shape class. The Vector class is used to define translations of the shapes."
   ]
  },
  {
   "attachments": {},
   "cell_type": "markdown",
   "metadata": {},
   "source": [
    "## Shape class \n",
    "The Shape class describes shapes using two data structures. Points is a list of Point objects representing the shape (vertices for polygons, center point for circles). Properties is a dict describing the relevant properties of the shape, including side length, area, radius, etc., as appropriate. Finally, the blueprint is a list representing the information provided by the user to construct the shape. This also varies by shape type. Using a list rather than multiple parameters supports eventual extension to other \"blueprint\" formats. For example, the currently supported blueprint for a square is a list containing points representing the two diagonal corners, as this uniquely describes one square. However, this functionality could be extended to support other options, like one point and one vector.\n",
    "\n",
    "The following is an excerpt from the Shape class: "
   ]
  },
  {
   "cell_type": "code",
   "execution_count": null,
   "metadata": {},
   "outputs": [],
   "source": [
    "class Shape(Geom):\n",
    "    \"\"\"\"\"\"\n",
    "\n",
    "    # List containing the information from which the Shape is constructed\n",
    "    blueprint: list = []\n",
    "    # List containing all the Points of the Shape\n",
    "    points: list = []\n",
    "    # Dict containing all the properties of the Shape (e.g. radius, side length)\n",
    "    # Keys vary depending on subclass of Shape\n",
    "    properties: dict = {}\n",
    "\n",
    "    def __init__(self, blueprint: list):\n",
    "        \"\"\"\"\"\"\n",
    "        # Set the \"blueprint\" attribute to preserve a record of the\n",
    "        # information used to construct the shape\n",
    "        self.blueprint = blueprint\n",
    "        # Set the points list using subclass method\n",
    "        self.points = self.constructPoints(blueprint)\n",
    "        # Set the properties dict using subclass method;\n",
    "        self.properties = self.constructProperties(blueprint, self.points)\n",
    "        # self.desc = self.construct(blueprint)\n",
    "        super().__init__()\n"
   ]
  },
  {
   "attachments": {},
   "cell_type": "markdown",
   "metadata": {},
   "source": [
    "The constructPoints and constructProperties methods are defined by the subclass for each Shape type."
   ]
  },
  {
   "attachments": {},
   "cell_type": "markdown",
   "metadata": {},
   "source": [
    "## Demonstration"
   ]
  },
  {
   "attachments": {},
   "cell_type": "markdown",
   "metadata": {},
   "source": [
    "First, let's import the relevant module and make some points."
   ]
  },
  {
   "cell_type": "code",
   "execution_count": 1,
   "metadata": {},
   "outputs": [],
   "source": [
    "from Geom import Square, Circle, Point, Vector, Triangle\n",
    "\n",
    "point1 = Point([0, 0])\n",
    "point2 = Point([5, 5])\n",
    "point3 = Point([6, 7])\n"
   ]
  },
  {
   "attachments": {},
   "cell_type": "markdown",
   "metadata": {},
   "source": [
    "These points are in the Geom class, so they can print their names."
   ]
  },
  {
   "cell_type": "code",
   "execution_count": 2,
   "metadata": {},
   "outputs": [
    {
     "name": "stdout",
     "output_type": "stream",
     "text": [
      "I am a Point named Josh. My color is RED.\n",
      "I am a Point named Sally. My color is BLUE.\n",
      "I am a Point named Josh. My color is RED.\n"
     ]
    }
   ],
   "source": [
    "point1.print_name()\n",
    "point2.print_name()\n",
    "point3.print_name()"
   ]
  },
  {
   "attachments": {},
   "cell_type": "markdown",
   "metadata": {},
   "source": [
    "Next, we can make a triangle with our three points."
   ]
  },
  {
   "cell_type": "code",
   "execution_count": 7,
   "metadata": {},
   "outputs": [
    {
     "name": "stdout",
     "output_type": "stream",
     "text": [
      "I am a Triangle named Bill. My color is BLUE.\n",
      "The coordinates of myTriangle are [[0.0, 0.0], [5.0, 5.0], [6.0, 7.0]]\n"
     ]
    }
   ],
   "source": [
    "myTriangle = Triangle([point1, point2, point3])\n",
    "myTriangle.print_name()\n",
    "print(f\"The coordinates of myTriangle are {myTriangle.coordsList()}\")"
   ]
  },
  {
   "attachments": {},
   "cell_type": "markdown",
   "metadata": {},
   "source": [
    "Let's check out the properties of our triangle. "
   ]
  },
  {
   "cell_type": "code",
   "execution_count": 10,
   "metadata": {},
   "outputs": [
    {
     "name": "stdout",
     "output_type": "stream",
     "text": [
      "The value of side1 is 7.0710678118654755\n",
      "The value of side2 is 9.219544457292887\n",
      "The value of side3 is 2.23606797749979\n",
      "The value of area is 2.5\n"
     ]
    }
   ],
   "source": [
    "for key in myTriangle.properties:\n",
    "    print(f\"The value of {key} is {myTriangle.properties[key]}\")"
   ]
  },
  {
   "attachments": {},
   "cell_type": "markdown",
   "metadata": {},
   "source": [
    "Next, let's perform a translation on our triangle using a vector."
   ]
  },
  {
   "cell_type": "code",
   "execution_count": 12,
   "metadata": {},
   "outputs": [],
   "source": [
    "myVector = Vector([20, 45])"
   ]
  },
  {
   "attachments": {},
   "cell_type": "markdown",
   "metadata": {},
   "source": [
    "This is a vector of magnitude 20 and direction 45, meaning a 45 degree angle (where the positive x-axis extends from the origin at a 0-degree angle and then increases counterclockwise, as in trigonometry)."
   ]
  },
  {
   "cell_type": "code",
   "execution_count": 18,
   "metadata": {},
   "outputs": [
    {
     "name": "stdout",
     "output_type": "stream",
     "text": [
      "The triangle's new coordinates are [[70.711, 70.711], [75.71100000000001, 75.71100000000001], [76.71100000000001, 77.71100000000001]].\n",
      "Its area is still 2.5.\n"
     ]
    }
   ],
   "source": [
    "myTriangle.translate(myVector)\n",
    "print(f\"The triangle's new coordinates are {myTriangle.coordsList()}.\")\n",
    "print(f\"Its area is still {myTriangle.properties['area']}.\")"
   ]
  },
  {
   "attachments": {},
   "cell_type": "markdown",
   "metadata": {},
   "source": [
    "As we would expect, the triangle has moved up and to the right on the coordinate plane.\n",
    "\n",
    "Since \"translate\" is defined in the Shape class, the same method works on all kinds of shapes. Here's an example for a square, defined using the same points as above. "
   ]
  },
  {
   "cell_type": "code",
   "execution_count": 22,
   "metadata": {},
   "outputs": [
    {
     "name": "stdout",
     "output_type": "stream",
     "text": [
      "I am a Square named Lammar. My color is PURPLE.\n"
     ]
    }
   ],
   "source": [
    "mySquare = Square([point1, point2])\n",
    "mySquare.print_name()\n",
    "\n"
   ]
  }
 ],
 "metadata": {
  "kernelspec": {
   "display_name": "geocomp1_env",
   "language": "python",
   "name": "python3"
  },
  "language_info": {
   "codemirror_mode": {
    "name": "ipython",
    "version": 3
   },
   "file_extension": ".py",
   "mimetype": "text/x-python",
   "name": "python",
   "nbconvert_exporter": "python",
   "pygments_lexer": "ipython3",
   "version": "3.10.9"
  },
  "orig_nbformat": 4
 },
 "nbformat": 4,
 "nbformat_minor": 2
}
